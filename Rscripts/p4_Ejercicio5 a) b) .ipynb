{
 "cells": [
  {
   "cell_type": "markdown",
   "id": "2b88e138",
   "metadata": {},
   "source": [
    "<img src=\"p4_ej5_enunciado.png\" width=\"800\" height=\"400\">\n"
   ]
  },
  {
   "cell_type": "markdown",
   "id": "02ddfa92",
   "metadata": {},
   "source": [
    "#### Preparacion de data set"
   ]
  },
  {
   "cell_type": "code",
   "execution_count": 90,
   "id": "05ab79f6",
   "metadata": {},
   "outputs": [],
   "source": [
    "library(dplyr)"
   ]
  },
  {
   "cell_type": "code",
   "execution_count": 130,
   "id": "c03115b2",
   "metadata": {},
   "outputs": [
    {
     "data": {
      "text/html": [
       "<table>\n",
       "<thead><tr><th scope=col>Sepal.Length</th><th scope=col>Sepal.Width</th><th scope=col>Petal.Length</th><th scope=col>Petal.Width</th><th scope=col>Species</th></tr></thead>\n",
       "<tbody>\n",
       "\t<tr><td>5.1   </td><td>3.5   </td><td>1.4   </td><td>0.2   </td><td>setosa</td></tr>\n",
       "\t<tr><td>4.9   </td><td>3.0   </td><td>1.4   </td><td>0.2   </td><td>setosa</td></tr>\n",
       "\t<tr><td>4.7   </td><td>3.2   </td><td>1.3   </td><td>0.2   </td><td>setosa</td></tr>\n",
       "\t<tr><td>4.6   </td><td>3.1   </td><td>1.5   </td><td>0.2   </td><td>setosa</td></tr>\n",
       "\t<tr><td>5.0   </td><td>3.6   </td><td>1.4   </td><td>0.2   </td><td>setosa</td></tr>\n",
       "\t<tr><td>5.4   </td><td>3.9   </td><td>1.7   </td><td>0.4   </td><td>setosa</td></tr>\n",
       "</tbody>\n",
       "</table>\n"
      ],
      "text/latex": [
       "\\begin{tabular}{r|lllll}\n",
       " Sepal.Length & Sepal.Width & Petal.Length & Petal.Width & Species\\\\\n",
       "\\hline\n",
       "\t 5.1    & 3.5    & 1.4    & 0.2    & setosa\\\\\n",
       "\t 4.9    & 3.0    & 1.4    & 0.2    & setosa\\\\\n",
       "\t 4.7    & 3.2    & 1.3    & 0.2    & setosa\\\\\n",
       "\t 4.6    & 3.1    & 1.5    & 0.2    & setosa\\\\\n",
       "\t 5.0    & 3.6    & 1.4    & 0.2    & setosa\\\\\n",
       "\t 5.4    & 3.9    & 1.7    & 0.4    & setosa\\\\\n",
       "\\end{tabular}\n"
      ],
      "text/markdown": [
       "\n",
       "| Sepal.Length | Sepal.Width | Petal.Length | Petal.Width | Species |\n",
       "|---|---|---|---|---|\n",
       "| 5.1    | 3.5    | 1.4    | 0.2    | setosa |\n",
       "| 4.9    | 3.0    | 1.4    | 0.2    | setosa |\n",
       "| 4.7    | 3.2    | 1.3    | 0.2    | setosa |\n",
       "| 4.6    | 3.1    | 1.5    | 0.2    | setosa |\n",
       "| 5.0    | 3.6    | 1.4    | 0.2    | setosa |\n",
       "| 5.4    | 3.9    | 1.7    | 0.4    | setosa |\n",
       "\n"
      ],
      "text/plain": [
       "  Sepal.Length Sepal.Width Petal.Length Petal.Width Species\n",
       "1 5.1          3.5         1.4          0.2         setosa \n",
       "2 4.9          3.0         1.4          0.2         setosa \n",
       "3 4.7          3.2         1.3          0.2         setosa \n",
       "4 4.6          3.1         1.5          0.2         setosa \n",
       "5 5.0          3.6         1.4          0.2         setosa \n",
       "6 5.4          3.9         1.7          0.4         setosa "
      ]
     },
     "metadata": {},
     "output_type": "display_data"
    }
   ],
   "source": [
    "data(iris)\n",
    "df = iris\n",
    "head(df)"
   ]
  },
  {
   "cell_type": "code",
   "execution_count": 16,
   "id": "59b0e81e",
   "metadata": {},
   "outputs": [],
   "source": [
    "df = select(df,Sepal.Width,Petal.Width,Species)\n",
    "df$Species = as.factor(df$Species)"
   ]
  },
  {
   "cell_type": "markdown",
   "id": "8240d25b",
   "metadata": {},
   "source": [
    "### a -"
   ]
  },
  {
   "cell_type": "code",
   "execution_count": 35,
   "id": "ffc0661c",
   "metadata": {},
   "outputs": [
    {
     "data": {
      "image/png": "[encoded data removed]",
      "text/plain": [
       "plot without title"
      ]
     },
     "metadata": {},
     "output_type": "display_data"
    }
   ],
   "source": [
    "plot(df$Sepal.Width,df$Petal.Width,col=df$Species, xlab=\"Ancho Sepalo\", ylab=\"Ancho Petalo\")\n",
    "\n",
    "legend(\"bottomleft\", legend = unique(df$Species),\n",
    "       lwd = 3, col=unique(df$Species))"
   ]
  },
  {
   "cell_type": "code",
   "execution_count": null,
   "id": "e524b28b",
   "metadata": {},
   "outputs": [],
   "source": [
    "### agregrar el test para cada grupo\n",
    "### mvShapiro --> bajar el .zip "
   ]
  },
  {
   "cell_type": "code",
   "execution_count": 39,
   "id": "3cad2b77",
   "metadata": {},
   "outputs": [
    {
     "data": {
      "text/html": [
       "<table>\n",
       "<thead><tr><th scope=col>p value</th></tr></thead>\n",
       "<tbody>\n",
       "\t<tr><td>1.119371e-11</td></tr>\n",
       "</tbody>\n",
       "</table>\n"
      ],
      "text/latex": [
       "\\begin{tabular}{r|l}\n",
       " p value\\\\\n",
       "\\hline\n",
       "\t 1.119371e-11\\\\\n",
       "\\end{tabular}\n"
      ],
      "text/markdown": [
       "\n",
       "| p value |\n",
       "|---|\n",
       "| 1.119371e-11 |\n",
       "\n"
      ],
      "text/plain": [
       "  p value     \n",
       "1 1.119371e-11"
      ]
     },
     "metadata": {},
     "output_type": "display_data"
    },
    {
     "data": {
      "text/html": [
       "<table>\n",
       "<thead><tr><th scope=col>p value</th></tr></thead>\n",
       "<tbody>\n",
       "\t<tr><td>Rechazo, no hay normalidad multivariada</td></tr>\n",
       "</tbody>\n",
       "</table>\n"
      ],
      "text/latex": [
       "\\begin{tabular}{l}\n",
       " p value\\\\\n",
       "\\hline\n",
       "\t Rechazo, no hay normalidad multivariada\\\\\n",
       "\\end{tabular}\n"
      ],
      "text/markdown": [
       "\n",
       "| p value |\n",
       "|---|\n",
       "| Rechazo, no hay normalidad multivariada |\n",
       "\n"
      ],
      "text/plain": [
       "     p value                                \n",
       "[1,] Rechazo, no hay normalidad multivariada"
      ]
     },
     "metadata": {},
     "output_type": "display_data"
    },
    {
     "data": {
      "image/png": "[encoded data removed]",
      "text/plain": [
       "Plot with title \"Chi-Square Q-Q Plot\""
      ]
     },
     "metadata": {},
     "output_type": "display_data"
    }
   ],
   "source": [
    "alfa = 0.001\n",
    "library(MVN)\n",
    "test = mvn(select(df,Sepal.Width,Petal.Width), mvnTest = \"hz\", multivariateOutlierMethod = \"quan\")\n",
    "pvalue = test$multivariateNormality[3]\n",
    "pvalue\n",
    "ifelse(pvalue<alfa,\"Rechazo, no hay normalidad multivariada\",\"No rechazo, hay normalidad multivariada\")"
   ]
  },
  {
   "cell_type": "code",
   "execution_count": 57,
   "id": "d9aea21d",
   "metadata": {},
   "outputs": [
    {
     "data": {
      "text/html": [
       "<ol class=list-inline>\n",
       "\t<li>setosa</li>\n",
       "\t<li>versicolor</li>\n",
       "\t<li>virginica</li>\n",
       "</ol>\n",
       "\n",
       "<details>\n",
       "\t<summary style=display:list-item;cursor:pointer>\n",
       "\t\t<strong>Levels</strong>:\n",
       "\t</summary>\n",
       "\t<ol class=list-inline>\n",
       "\t\t<li>'setosa'</li>\n",
       "\t\t<li>'versicolor'</li>\n",
       "\t\t<li>'virginica'</li>\n",
       "\t</ol>\n",
       "</details>"
      ],
      "text/latex": [
       "\\begin{enumerate*}\n",
       "\\item setosa\n",
       "\\item versicolor\n",
       "\\item virginica\n",
       "\\end{enumerate*}\n",
       "\n",
       "\\emph{Levels}: \\begin{enumerate*}\n",
       "\\item 'setosa'\n",
       "\\item 'versicolor'\n",
       "\\item 'virginica'\n",
       "\\end{enumerate*}\n"
      ],
      "text/markdown": [
       "1. setosa\n",
       "2. versicolor\n",
       "3. virginica\n",
       "\n",
       "\n",
       "\n",
       "**Levels**: 1. 'setosa'\n",
       "2. 'versicolor'\n",
       "3. 'virginica'\n",
       "\n",
       "\n"
      ],
      "text/plain": [
       "[1] setosa     versicolor virginica \n",
       "Levels: setosa versicolor virginica"
      ]
     },
     "metadata": {},
     "output_type": "display_data"
    }
   ],
   "source": [
    "unique(df$Species)"
   ]
  },
  {
   "cell_type": "markdown",
   "id": "c7647b46",
   "metadata": {},
   "source": [
    "### Test de igualdad de varianzas"
   ]
  },
  {
   "cell_type": "code",
   "execution_count": 81,
   "id": "20e717cc",
   "metadata": {},
   "outputs": [],
   "source": [
    "p <- 2\n",
    "k <- 3\n",
    "s <- min(p,k-1) #Cantidad de coordenadas discriminantes: 2"
   ]
  },
  {
   "cell_type": "code",
   "execution_count": 85,
   "id": "0bcb74cf",
   "metadata": {},
   "outputs": [],
   "source": [
    "n1 = nrow(df[df$Species==\"setosa\",])\n",
    "n2 = nrow(df[df$Species==\"versicolor\",])\n",
    "n3 = nrow(df[df$Species==\"virginica\",])\n",
    "n = n1+n2+n3"
   ]
  },
  {
   "cell_type": "code",
   "execution_count": 83,
   "id": "065fd2fd",
   "metadata": {},
   "outputs": [
    {
     "data": {
      "text/html": [
       "<table>\n",
       "<thead><tr><th></th><th scope=col>Sepal.Width</th><th scope=col>Petal.Width</th></tr></thead>\n",
       "<tbody>\n",
       "\t<tr><th scope=row>Sepal.Width</th><td>16.9620</td><td>4.8084 </td></tr>\n",
       "\t<tr><th scope=row>Petal.Width</th><td> 4.8084</td><td>6.1566 </td></tr>\n",
       "</tbody>\n",
       "</table>\n"
      ],
      "text/latex": [
       "\\begin{tabular}{r|ll}\n",
       "  & Sepal.Width & Petal.Width\\\\\n",
       "\\hline\n",
       "\tSepal.Width & 16.9620 & 4.8084 \\\\\n",
       "\tPetal.Width &  4.8084 & 6.1566 \\\\\n",
       "\\end{tabular}\n"
      ],
      "text/markdown": [
       "\n",
       "| <!--/--> | Sepal.Width | Petal.Width |\n",
       "|---|---|---|\n",
       "| Sepal.Width | 16.9620 | 4.8084  |\n",
       "| Petal.Width |  4.8084 | 6.1566  |\n",
       "\n"
      ],
      "text/plain": [
       "            Sepal.Width Petal.Width\n",
       "Sepal.Width 16.9620     4.8084     \n",
       "Petal.Width  4.8084     6.1566     "
      ]
     },
     "metadata": {},
     "output_type": "display_data"
    }
   ],
   "source": [
    "q1 = (n1-1)*var(df[df$Species == \"setosa\",][,1:2])\n",
    "q2 = (n2-1)*var(df[df$Species == \"versicolor\",][,1:2])\n",
    "q3 = (n3-1)*var(df[df$Species == \"virginica\",][,1:2])\n",
    "\n",
    "u = q1+q2+q3\n",
    "u"
   ]
  },
  {
   "cell_type": "code",
   "execution_count": 88,
   "id": "f819d752",
   "metadata": {},
   "outputs": [
    {
     "data": {
      "text/html": [
       "<dl class=dl-horizontal>\n",
       "\t<dt>Sepal.Width</dt>\n",
       "\t\t<dd>3.05733333333333</dd>\n",
       "\t<dt>Petal.Width</dt>\n",
       "\t\t<dd>1.19933333333333</dd>\n",
       "</dl>\n"
      ],
      "text/latex": [
       "\\begin{description*}\n",
       "\\item[Sepal.Width] 3.05733333333333\n",
       "\\item[Petal.Width] 1.19933333333333\n",
       "\\end{description*}\n"
      ],
      "text/markdown": [
       "Sepal.Width\n",
       ":   3.05733333333333Petal.Width\n",
       ":   1.19933333333333\n",
       "\n"
      ],
      "text/plain": [
       "Sepal.Width Petal.Width \n",
       "   3.057333    1.199333 "
      ]
     },
     "metadata": {},
     "output_type": "display_data"
    },
    {
     "data": {
      "text/html": [
       "<table>\n",
       "<thead><tr><th scope=col>Sepal.Width</th><th scope=col>Petal.Width</th></tr></thead>\n",
       "<tbody>\n",
       "\t<tr><td> 11.34493</td><td>-22.93267</td></tr>\n",
       "\t<tr><td>-22.93267</td><td> 80.41333</td></tr>\n",
       "</tbody>\n",
       "</table>\n"
      ],
      "text/latex": [
       "\\begin{tabular}{ll}\n",
       " Sepal.Width & Petal.Width\\\\\n",
       "\\hline\n",
       "\t  11.34493 & -22.93267\\\\\n",
       "\t -22.93267 &  80.41333\\\\\n",
       "\\end{tabular}\n"
      ],
      "text/markdown": [
       "\n",
       "| Sepal.Width | Petal.Width |\n",
       "|---|---|\n",
       "|  11.34493 | -22.93267 |\n",
       "| -22.93267 |  80.41333 |\n",
       "\n"
      ],
      "text/plain": [
       "     Sepal.Width Petal.Width\n",
       "[1,]  11.34493   -22.93267  \n",
       "[2,] -22.93267    80.41333  "
      ]
     },
     "metadata": {},
     "output_type": "display_data"
    }
   ],
   "source": [
    "xraya1 <- apply(df[df$Species == \"setosa\",][,1:2], 2, mean)\n",
    "xraya2 <- apply(df[df$Species == \"versicolor\",][,1:2], 2, mean)\n",
    "xraya3 <- apply(df[df$Species == \"virginica\",][,1:2], 2, mean)\n",
    "\n",
    "xraya <- (1/n)*(n1*xraya1+n2*xraya2+n3*xraya3)\n",
    "\n",
    "\n",
    "H <- n1*(xraya1-xraya)%*%t(xraya1-xraya)+n2*(xraya2-xraya)%*%t(xraya2-xraya)+n3*(xraya3-xraya)%*%t(xraya3-xraya)\n",
    "\n",
    "xraya\n",
    "\n",
    "H"
   ]
  },
  {
   "cell_type": "markdown",
   "id": "c5276be3",
   "metadata": {},
   "source": [
    "### Finalmente recordando el test se tiene\n",
    "\n",
    "<img src=\"test_igualdad_var_cov.png\" width=\"800\" height=\"400\">\n",
    "\n"
   ]
  },
  {
   "attachments": {},
   "cell_type": "markdown",
   "id": "f53515ce",
   "metadata": {},
   "source": [
    "Con \n",
    "\n",
    "\n",
    "<img src=\"k_alfa.png\" width=\"200\" height=\"200\">\n",
    "\n"
   ]
  },
  {
   "cell_type": "markdown",
   "id": "9338bb12",
   "metadata": {},
   "source": [
    "#### Forma exacta"
   ]
  },
  {
   "cell_type": "code",
   "execution_count": 132,
   "id": "045f11c6",
   "metadata": {},
   "outputs": [
    {
     "data": {
      "text/html": [
       "'No rechazo Ho, puedo asumir igualdad de matrices de covarianzas'"
      ],
      "text/latex": [
       "'No rechazo Ho, puedo asumir igualdad de matrices de covarianzas'"
      ],
      "text/markdown": [
       "'No rechazo Ho, puedo asumir igualdad de matrices de covarianzas'"
      ],
      "text/plain": [
       "[1] \"No rechazo Ho, puedo asumir igualdad de matrices de covarianzas\""
      ]
     },
     "metadata": {},
     "output_type": "display_data"
    }
   ],
   "source": [
    "gamma <- (det(q1/n1)^(n1/2)*det(q2/n2)^(n2/2)*det(q3/n3)^(n3/2))/(det(u/n)^(n/2))\n",
    "gl <- p*k+p*(p+1)*(k/2)\n",
    "\n",
    "k_alfa = (-1/(n*p))*exp(qchisq(alfa, df=gl) )\n",
    "\n",
    "ifelse(gamma<k_alfa,\"Rechazo Ho, no puedo asumir igualdad de matrices de covarianza\",\"No rechazo Ho, puedo asumir igualdad de matrices de covarianzas\")\n"
   ]
  },
  {
   "cell_type": "markdown",
   "id": "fe312924",
   "metadata": {},
   "source": [
    "Para calcular el p valor conviene despejar desde gamma < k_alfa, entonces el p valor viene dado por\n",
    "\n",
    "P(chi< - np ln(gamma)) entonces"
   ]
  },
  {
   "cell_type": "code",
   "execution_count": 133,
   "id": "2d560404",
   "metadata": {},
   "outputs": [
    {
     "data": {
      "text/html": [
       "1"
      ],
      "text/latex": [
       "1"
      ],
      "text/markdown": [
       "1"
      ],
      "text/plain": [
       "[1] 1"
      ]
     },
     "metadata": {},
     "output_type": "display_data"
    }
   ],
   "source": [
    "p_valor_exacto = pchisq(-n*p*log(gamma), df=gl)\n",
    "p_valor_exacto"
   ]
  },
  {
   "cell_type": "markdown",
   "id": "1b285d34",
   "metadata": {},
   "source": [
    "#### Forma aproximada, aca usamos la convergencia en distribucion de -2log(gamma) a una chi cuadrado"
   ]
  },
  {
   "cell_type": "code",
   "execution_count": 135,
   "id": "095f9a78",
   "metadata": {},
   "outputs": [
    {
     "data": {
      "text/html": [
       "0.99999999923103"
      ],
      "text/latex": [
       "0.99999999923103"
      ],
      "text/markdown": [
       "0.99999999923103"
      ],
      "text/plain": [
       "[1] 1"
      ]
     },
     "metadata": {},
     "output_type": "display_data"
    },
    {
     "data": {
      "text/html": [
       "'No rechazo Ho, puedo asumir igualdad de matrices de covarianzas'"
      ],
      "text/latex": [
       "'No rechazo Ho, puedo asumir igualdad de matrices de covarianzas'"
      ],
      "text/markdown": [
       "'No rechazo Ho, puedo asumir igualdad de matrices de covarianzas'"
      ],
      "text/plain": [
       "[1] \"No rechazo Ho, puedo asumir igualdad de matrices de covarianzas\""
      ]
     },
     "metadata": {},
     "output_type": "display_data"
    }
   ],
   "source": [
    "gamma <- (det(q1/n1)^(n1/2)*det(q2/n2)^(n2/2)*det(q3/n3)^(n3/2))/(det(u/n)^(n/2))\n",
    "gamma_log = -2*log(gamma)\n",
    "\n",
    "gl <- p*k+p*(p+1)*k/2-(p*k+p*(p+1)/2)\n",
    "\n",
    "pvalor <- 1-pchisq(gamma_log, gl, ncp=0, lower.tail = FALSE)\n",
    "\n",
    "pvalor\n",
    "\n",
    "ifelse(pvalor>alfa,\"No rechazo Ho, puedo asumir igualdad de matrices de covarianzas\",\n",
    "       \"Rechazo Ho, no puedo asumir igualdad de matrices de covarianza\")\n",
    "# A nivel 0.01 no rechazo igualdad de varianzas entre las especies versi y virgi"
   ]
  },
  {
   "cell_type": "markdown",
   "id": "f938f9f9",
   "metadata": {},
   "source": [
    "### b -\n",
    "\n",
    "### Test igualdad de medias suponiendo igualdad en las covarianzas\n",
    "\n",
    "#### Recordando lo visto en clase, el test cociente de verosimilitud viene dado por"
   ]
  },
  {
   "cell_type": "markdown",
   "id": "f6e3b5d3",
   "metadata": {},
   "source": [
    "<img src=\"test_igualdad_medias(igualcov_).png\" width=\"800\" height=\"400\">\n"
   ]
  },
  {
   "cell_type": "markdown",
   "id": "d6545a3f",
   "metadata": {},
   "source": [
    "#### Forma Exacta"
   ]
  },
  {
   "cell_type": "code",
   "execution_count": 122,
   "id": "63861fe8",
   "metadata": {},
   "outputs": [
    {
     "data": {
      "text/html": [
       "'No rechazo Ho, todas las medias son iguales'"
      ],
      "text/latex": [
       "'No rechazo Ho, todas las medias son iguales'"
      ],
      "text/markdown": [
       "'No rechazo Ho, todas las medias son iguales'"
      ],
      "text/plain": [
       "[1] \"No rechazo Ho, todas las medias son iguales\""
      ]
     },
     "metadata": {},
     "output_type": "display_data"
    },
    {
     "data": {
      "text/html": [
       "1"
      ],
      "text/latex": [
       "1"
      ],
      "text/markdown": [
       "1"
      ],
      "text/plain": [
       "[1] 1"
      ]
     },
     "metadata": {},
     "output_type": "display_data"
    }
   ],
   "source": [
    "gammab <- (det(u)/(det(u+H)))^{n/2}\n",
    "\n",
    "gl <- p*k+p*(p+1)*(k/2)\n",
    "\n",
    "k_alfa = (-1/(n*p))*exp(qchisq(alfa, df=gl) )\n",
    "\n",
    "ifelse(gamma<k_alfa,\"Rechazo Ho, al menos una media es distinta\",\"No rechazo Ho, todas las medias son iguales\")\n",
    "\n",
    "p_valor_exacto = pchisq(-n*p*log(gamma), df=gl)\n",
    "p_valor_exacto"
   ]
  },
  {
   "cell_type": "markdown",
   "id": "5738c484",
   "metadata": {},
   "source": [
    "#### Forma Aproximada"
   ]
  },
  {
   "cell_type": "code",
   "execution_count": 129,
   "id": "d9a380db",
   "metadata": {},
   "outputs": [
    {
     "data": {
      "text/html": [
       "'No rechazo Ho, todas las medias son iguales'"
      ],
      "text/latex": [
       "'No rechazo Ho, todas las medias son iguales'"
      ],
      "text/markdown": [
       "'No rechazo Ho, todas las medias son iguales'"
      ],
      "text/plain": [
       "[1] \"No rechazo Ho, todas las medias son iguales\""
      ]
     },
     "metadata": {},
     "output_type": "display_data"
    },
    {
     "data": {
      "text/html": [
       "1"
      ],
      "text/latex": [
       "1"
      ],
      "text/markdown": [
       "1"
      ],
      "text/plain": [
       "[1] 1"
      ]
     },
     "metadata": {},
     "output_type": "display_data"
    }
   ],
   "source": [
    "gl <- p*k+p*(p+1)/2-(p+p*(p+1)/2)\n",
    "\n",
    "gamma_logb = -2*log(gammab)\n",
    "\n",
    "pvalor <-  pchisq(gamma_log, gl, ncp=0, lower.tail = FALSE)\n",
    "\n",
    "ifelse(pvalor<alfa,\"Rechazo Ho, al menos una media es distinta\",\"No rechazo Ho, todas las medias son iguales\")\n",
    "\n",
    "pvalor\n"
   ]
  },
  {
   "cell_type": "code",
   "execution_count": null,
   "id": "f6f34cb8",
   "metadata": {},
   "outputs": [],
   "source": []
  },
  {
   "cell_type": "code",
   "execution_count": null,
   "id": "c03a3085",
   "metadata": {},
   "outputs": [],
   "source": []
  },
  {
   "cell_type": "code",
   "execution_count": null,
   "id": "4832eb5d",
   "metadata": {},
   "outputs": [],
   "source": []
  },
  {
   "cell_type": "code",
   "execution_count": null,
   "id": "be54960c",
   "metadata": {},
   "outputs": [],
   "source": []
  },
  {
   "cell_type": "code",
   "execution_count": null,
   "id": "3bf1fc0e",
   "metadata": {},
   "outputs": [],
   "source": []
  },
  {
   "cell_type": "code",
   "execution_count": null,
   "id": "596c0d6f",
   "metadata": {},
   "outputs": [],
   "source": []
  },
  {
   "cell_type": "code",
   "execution_count": null,
   "id": "0af59289",
   "metadata": {},
   "outputs": [],
   "source": []
  },
  {
   "cell_type": "code",
   "execution_count": null,
   "id": "7866de12",
   "metadata": {},
   "outputs": [],
   "source": []
  },
  {
   "cell_type": "code",
   "execution_count": null,
   "id": "552ae45f",
   "metadata": {},
   "outputs": [],
   "source": []
  }
 ],
 "metadata": {
  "kernelspec": {
   "display_name": "R",
   "language": "R",
   "name": "ir"
  },
  "language_info": {
   "codemirror_mode": "r",
   "file_extension": ".r",
   "mimetype": "text/x-r-source",
   "name": "R",
   "pygments_lexer": "r",
   "version": "3.6.1"
  }
 },
 "nbformat": 4,
 "nbformat_minor": 5
}
