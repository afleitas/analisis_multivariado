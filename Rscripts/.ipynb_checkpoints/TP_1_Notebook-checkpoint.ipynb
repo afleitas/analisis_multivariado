{
 "cells": [
  {
   "cell_type": "code",
   "execution_count": 21,
   "id": "9adf09f6",
   "metadata": {},
   "outputs": [],
   "source": [
    "#install.packages(\"MVN\")\n"
   ]
  },
  {
   "cell_type": "code",
   "execution_count": 1,
   "id": "52edd942",
   "metadata": {},
   "outputs": [],
   "source": [
    "library(MVN)"
   ]
  },
  {
   "cell_type": "code",
   "execution_count": 2,
   "id": "e7f88fa9",
   "metadata": {},
   "outputs": [],
   "source": [
    "df= read.table(\"C:\\\\Users\\\\Dell7400\\\\Documents\\\\Ale\\\\Facu\\\\Multivariado\\\\datos\\\\P2-ejCORCHO.txt\",header=TRUE)\n"
   ]
  },
  {
   "cell_type": "markdown",
   "id": "eda5f1ce",
   "metadata": {},
   "source": [
    "#### Cargo set da datos"
   ]
  },
  {
   "cell_type": "code",
   "execution_count": null,
   "id": "d731991e",
   "metadata": {},
   "outputs": [],
   "source": [
    "df= read.table(\"C:\\\\Users\\\\Dell7400\\\\Documents\\\\Ale\\\\Facu\\\\Multivariado\\\\datos\\\\P2-ejCORCHO.txt\",header=TRUE)\n",
    "alfa = 0.005\n",
    "n = nrow(df)\n",
    "p = 3 #ncol(df)"
   ]
  },
  {
   "cell_type": "markdown",
   "id": "56d10154",
   "metadata": {},
   "source": [
    "#### a - Calculo test de hipotesis"
   ]
  },
  {
   "cell_type": "markdown",
   "id": "f3314efb",
   "metadata": {},
   "source": [
    "La matriz asociada a la transformacion lineal es\n",
    "\n",
    "$  A = \n",
    "\\begin{pmatrix}\n",
    "1 & -1 & 1 & -1 \\\\\n",
    "0 & 1 & 0 & -1 \\\\\n",
    "1 & 0 & -1 & 0\n",
    "\\end{pmatrix} $ \n",
    "\n",
    "Sabemos que el test de hotelling es invariante con respecto a transformaciones lineales no singulares\n",
    "\n"
   ]
  },
  {
   "cell_type": "code",
   "execution_count": 36,
   "id": "92e7a1f4",
   "metadata": {},
   "outputs": [
    {
     "data": {
      "text/html": [
       "<table>\n",
       "<tbody>\n",
       "\t<tr><td>1 </td><td>-1</td><td> 1</td><td>-1</td></tr>\n",
       "\t<tr><td>0 </td><td> 1</td><td> 0</td><td>-1</td></tr>\n",
       "\t<tr><td>1 </td><td> 0</td><td>-1</td><td> 0</td></tr>\n",
       "</tbody>\n",
       "</table>\n"
      ],
      "text/latex": [
       "\\begin{tabular}{llll}\n",
       "\t 1  & -1 &  1 & -1\\\\\n",
       "\t 0  &  1 &  0 & -1\\\\\n",
       "\t 1  &  0 & -1 &  0\\\\\n",
       "\\end{tabular}\n"
      ],
      "text/markdown": [
       "\n",
       "| 1  | -1 |  1 | -1 |\n",
       "| 0  |  1 |  0 | -1 |\n",
       "| 1  |  0 | -1 |  0 |\n",
       "\n"
      ],
      "text/plain": [
       "     [,1] [,2] [,3] [,4]\n",
       "[1,] 1    -1    1   -1  \n",
       "[2,] 0     1    0   -1  \n",
       "[3,] 1     0   -1    0  "
      ]
     },
     "metadata": {},
     "output_type": "display_data"
    }
   ],
   "source": [
    "A"
   ]
  },
  {
   "cell_type": "code",
   "execution_count": 3,
   "id": "bbfe0b81",
   "metadata": {},
   "outputs": [
    {
     "data": {
      "text/html": [
       "<table>\n",
       "<tbody>\n",
       "\t<tr><td>0.002280399</td></tr>\n",
       "</tbody>\n",
       "</table>\n"
      ],
      "text/latex": [
       "\\begin{tabular}{l}\n",
       "\t 0.002280399\\\\\n",
       "\\end{tabular}\n"
      ],
      "text/markdown": [
       "\n",
       "| 0.002280399 |\n",
       "\n"
      ],
      "text/plain": [
       "     [,1]       \n",
       "[1,] 0.002280399"
      ]
     },
     "metadata": {},
     "output_type": "display_data"
    }
   ],
   "source": [
    "#a\n",
    "\n",
    "\n",
    "# cargo la matriz A\n",
    "\n",
    "A_t =  matrix(c(1,-1,1,-1,0,1,0,-1,1,0,-1,0),4)\n",
    "A = t(A_t)\n",
    "\n",
    "s = var(df)\n",
    "\n",
    "xbarra = sapply(Filter(is.numeric, df), mean)\n",
    "\n",
    "\n",
    "x_barra_resta_1 = as.numeric(xbarra[1])-as.numeric(xbarra[2])+as.numeric(xbarra[3])-as.numeric(xbarra[4])\n",
    "x_barra_resta_2 = as.numeric(xbarra[2])-as.numeric(xbarra[4])\n",
    "x_barra_resta_3 = as.numeric(xbarra[1])-as.numeric(xbarra[3])\n",
    "\n",
    "\n",
    "\n",
    "xbarravector = cbind(x_barra_resta_1,x_barra_resta_2,x_barra_resta_3)\n",
    "\n",
    "S_inv_total = solve(A%*%s%*%A_t) # aca tengo la cuenta de (A*S*A_t)^-1\n",
    "\n",
    "\n",
    "\n",
    "To_2 = n*xbarravector%*%S_inv_total%*%t(xbarravector)\n",
    "\n",
    "gl1 = p\n",
    "gl2 = n-p\n",
    "\n",
    "# calculo el p valor transformando el estadistico hotelling a un F snedecor\n",
    "\n",
    "\n",
    "To_2_c = To_2*((n-p)/(p*(n-1)))\n",
    "\n",
    "p_valor = pf(To_2_c, gl1, gl2,lower.tail = F, log.p = F)  # pvalor=0.002280399\n",
    "p_valor\n",
    "\n",
    "# Regla de decision\n",
    "\n",
    "# como el p valor < alfa, entonces Rechazo la hipotesis nula, es dcir, no puedo afirmar la igualdad conjunta entre los vectores\n"
   ]
  },
  {
   "cell_type": "markdown",
   "id": "0d4b9ea2",
   "metadata": {},
   "source": [
    "#### b-\n",
    "#### La dirección que mas separa las clases y que mas contribuye al rechazo de la Ho es \n",
    "\n",
    "$ \\hat{a}~=~S^{-1}~(\\bar{x}-\\mu_0) $ "
   ]
  },
  {
   "cell_type": "code",
   "execution_count": null,
   "id": "008db90e",
   "metadata": {},
   "outputs": [],
   "source": [
    "a_sombrero = S_inv_total%*%t(xbarravector) # direccion que mas discrimina las clases, la mas importante para el rechazo de H0"
   ]
  },
  {
   "cell_type": "code",
   "execution_count": 4,
   "id": "488e7d97",
   "metadata": {},
   "outputs": [
    {
     "data": {
      "text/html": [
       "<table>\n",
       "<tbody>\n",
       "\t<tr><td>128.71958</td><td>-26.92593</td><td>-21.02116</td></tr>\n",
       "\t<tr><td>-26.92593</td><td>103.18519</td><td> 27.96296</td></tr>\n",
       "\t<tr><td>-21.02116</td><td> 27.96296</td><td> 63.53439</td></tr>\n",
       "</tbody>\n",
       "</table>\n"
      ],
      "text/latex": [
       "\\begin{tabular}{lll}\n",
       "\t 128.71958 & -26.92593 & -21.02116\\\\\n",
       "\t -26.92593 & 103.18519 &  27.96296\\\\\n",
       "\t -21.02116 &  27.96296 &  63.53439\\\\\n",
       "\\end{tabular}\n"
      ],
      "text/markdown": [
       "\n",
       "| 128.71958 | -26.92593 | -21.02116 |\n",
       "| -26.92593 | 103.18519 |  27.96296 |\n",
       "| -21.02116 |  27.96296 |  63.53439 |\n",
       "\n"
      ],
      "text/plain": [
       "     [,1]      [,2]      [,3]     \n",
       "[1,] 128.71958 -26.92593 -21.02116\n",
       "[2,] -26.92593 103.18519  27.96296\n",
       "[3,] -21.02116  27.96296  63.53439"
      ]
     },
     "metadata": {},
     "output_type": "display_data"
    }
   ],
   "source": [
    "s_total = A%*%s%*%A_t\n",
    "s_total"
   ]
  },
  {
   "cell_type": "markdown",
   "id": "89e30c9d",
   "metadata": {},
   "source": [
    "### c- \n",
    "\n",
    "### Intervalos de confianza simultaneo Hotelling"
   ]
  },
  {
   "cell_type": "code",
   "execution_count": 58,
   "id": "e88b26b6",
   "metadata": {},
   "outputs": [
    {
     "data": {
      "text/html": [
       "<table>\n",
       "<tbody>\n",
       "\t<tr><td>-2.830675</td></tr>\n",
       "</tbody>\n",
       "</table>\n"
      ],
      "text/latex": [
       "\\begin{tabular}{l}\n",
       "\t -2.830675\\\\\n",
       "\\end{tabular}\n"
      ],
      "text/markdown": [
       "\n",
       "| -2.830675 |\n",
       "\n"
      ],
      "text/plain": [
       "     [,1]     \n",
       "[1,] -2.830675"
      ]
     },
     "metadata": {},
     "output_type": "display_data"
    },
    {
     "data": {
      "text/html": [
       "<table>\n",
       "<tbody>\n",
       "\t<tr><td>4.544961</td></tr>\n",
       "</tbody>\n",
       "</table>\n"
      ],
      "text/latex": [
       "\\begin{tabular}{l}\n",
       "\t 4.544961\\\\\n",
       "\\end{tabular}\n"
      ],
      "text/markdown": [
       "\n",
       "| 4.544961 |\n",
       "\n"
      ],
      "text/plain": [
       "     [,1]    \n",
       "[1,] 4.544961"
      ]
     },
     "metadata": {},
     "output_type": "display_data"
    }
   ],
   "source": [
    "a_t = as.matrix(c(1,0,0))\n",
    "\n",
    "error_muestreo = sqrt(t(a_t)%*%s_total%*%a_t*((p*(n-1))/(n-p))*qf(alfa, gl1, gl2))\n",
    "\n",
    "at_xbarra_1 = t(a_sombrero)%*%t(xbarravector)\n",
    "\n",
    "\n",
    "Li = at_xbarra_1-error_muestreo\n",
    "Ls = at_xbarra_1+error_muestreo\n",
    "\n",
    "Li\n",
    "Ls"
   ]
  },
  {
   "cell_type": "code",
   "execution_count": 59,
   "id": "9d7b5376",
   "metadata": {},
   "outputs": [
    {
     "data": {
      "text/html": [
       "<table>\n",
       "<tbody>\n",
       "\t<tr><td>-2.444696</td></tr>\n",
       "</tbody>\n",
       "</table>\n"
      ],
      "text/latex": [
       "\\begin{tabular}{l}\n",
       "\t -2.444696\\\\\n",
       "\\end{tabular}\n"
      ],
      "text/markdown": [
       "\n",
       "| -2.444696 |\n",
       "\n"
      ],
      "text/plain": [
       "     [,1]     \n",
       "[1,] -2.444696"
      ]
     },
     "metadata": {},
     "output_type": "display_data"
    },
    {
     "data": {
      "text/html": [
       "<table>\n",
       "<tbody>\n",
       "\t<tr><td>4.158981</td></tr>\n",
       "</tbody>\n",
       "</table>\n"
      ],
      "text/latex": [
       "\\begin{tabular}{l}\n",
       "\t 4.158981\\\\\n",
       "\\end{tabular}\n"
      ],
      "text/markdown": [
       "\n",
       "| 4.158981 |\n",
       "\n"
      ],
      "text/plain": [
       "     [,1]    \n",
       "[1,] 4.158981"
      ]
     },
     "metadata": {},
     "output_type": "display_data"
    }
   ],
   "source": [
    "\n",
    "a_t = as.matrix(c(0,1,0))\n",
    "\n",
    "error_muestreo = sqrt(t(a_t)%*%s_total%*%a_t*((p*(n-1))/(n-p))*qf(alfa, gl1, gl2))\n",
    "\n",
    "at_xbarra_1 = t(a_sombrero)%*%t(xbarravector)\n",
    "\n",
    "\n",
    "Li = at_xbarra_1-error_muestreo\n",
    "Ls = at_xbarra_1+error_muestreo\n",
    "\n",
    "Li\n",
    "Ls"
   ]
  },
  {
   "cell_type": "code",
   "execution_count": 60,
   "id": "f1bb6c18",
   "metadata": {},
   "outputs": [
    {
     "data": {
      "text/html": [
       "<table>\n",
       "<tbody>\n",
       "\t<tr><td>-1.733763</td></tr>\n",
       "</tbody>\n",
       "</table>\n"
      ],
      "text/latex": [
       "\\begin{tabular}{l}\n",
       "\t -1.733763\\\\\n",
       "\\end{tabular}\n"
      ],
      "text/markdown": [
       "\n",
       "| -1.733763 |\n",
       "\n"
      ],
      "text/plain": [
       "     [,1]     \n",
       "[1,] -1.733763"
      ]
     },
     "metadata": {},
     "output_type": "display_data"
    },
    {
     "data": {
      "text/html": [
       "<table>\n",
       "<tbody>\n",
       "\t<tr><td>3.448049</td></tr>\n",
       "</tbody>\n",
       "</table>\n"
      ],
      "text/latex": [
       "\\begin{tabular}{l}\n",
       "\t 3.448049\\\\\n",
       "\\end{tabular}\n"
      ],
      "text/markdown": [
       "\n",
       "| 3.448049 |\n",
       "\n"
      ],
      "text/plain": [
       "     [,1]    \n",
       "[1,] 3.448049"
      ]
     },
     "metadata": {},
     "output_type": "display_data"
    }
   ],
   "source": [
    "\n",
    "a_t = as.matrix(c(0,0,1))\n",
    "\n",
    "error_muestreo = sqrt(t(a_t)%*%s_total%*%a_t*((p*(n-1))/(n-p))*qf(alfa, gl1, gl2))\n",
    "\n",
    "at_xbarra_1 = t(a_sombrero)%*%t(xbarravector)\n",
    "\n",
    "\n",
    "Li = at_xbarra_1-error_muestreo\n",
    "Ls = at_xbarra_1+error_muestreo\n",
    "\n",
    "Li\n",
    "Ls"
   ]
  },
  {
   "cell_type": "markdown",
   "id": "62a265ea",
   "metadata": {},
   "source": [
    "### Intervalos de confianza simultaneo Bonferroni\n"
   ]
  },
  {
   "cell_type": "code",
   "execution_count": 74,
   "id": "bb1af2cd",
   "metadata": {},
   "outputs": [
    {
     "data": {
      "text/html": [
       "<table>\n",
       "<tbody>\n",
       "\t<tr><td>-18.97803</td></tr>\n",
       "</tbody>\n",
       "</table>\n"
      ],
      "text/latex": [
       "\\begin{tabular}{l}\n",
       "\t -18.97803\\\\\n",
       "\\end{tabular}\n"
      ],
      "text/markdown": [
       "\n",
       "| -18.97803 |\n",
       "\n"
      ],
      "text/plain": [
       "     [,1]     \n",
       "[1,] -18.97803"
      ]
     },
     "metadata": {},
     "output_type": "display_data"
    },
    {
     "data": {
      "text/html": [
       "<table>\n",
       "<tbody>\n",
       "\t<tr><td>20.69231</td></tr>\n",
       "</tbody>\n",
       "</table>\n"
      ],
      "text/latex": [
       "\\begin{tabular}{l}\n",
       "\t 20.69231\\\\\n",
       "\\end{tabular}\n"
      ],
      "text/markdown": [
       "\n",
       "| 20.69231 |\n",
       "\n"
      ],
      "text/plain": [
       "     [,1]    \n",
       "[1,] 20.69231"
      ]
     },
     "metadata": {},
     "output_type": "display_data"
    }
   ],
   "source": [
    "a_t = as.matrix(c(1,0,0))\n",
    "\n",
    "error_muestreo = sqrt(t(a_t)%*%s_total%*%a_t*qt(1-alfa/2, n-1))\n",
    "at_xbarra_1 = t(a_sombrero)%*%t(xbarravector)\n",
    "\n",
    "\n",
    "Li = at_xbarra_1-error_muestreo\n",
    "Ls = at_xbarra_1+error_muestreo\n",
    "\n",
    "Li\n",
    "Ls"
   ]
  },
  {
   "cell_type": "code",
   "execution_count": 75,
   "id": "1644c39b",
   "metadata": {},
   "outputs": [
    {
     "data": {
      "text/html": [
       "<table>\n",
       "<tbody>\n",
       "\t<tr><td>-16.90201</td></tr>\n",
       "</tbody>\n",
       "</table>\n"
      ],
      "text/latex": [
       "\\begin{tabular}{l}\n",
       "\t -16.90201\\\\\n",
       "\\end{tabular}\n"
      ],
      "text/markdown": [
       "\n",
       "| -16.90201 |\n",
       "\n"
      ],
      "text/plain": [
       "     [,1]     \n",
       "[1,] -16.90201"
      ]
     },
     "metadata": {},
     "output_type": "display_data"
    },
    {
     "data": {
      "text/html": [
       "<table>\n",
       "<tbody>\n",
       "\t<tr><td>18.6163</td></tr>\n",
       "</tbody>\n",
       "</table>\n"
      ],
      "text/latex": [
       "\\begin{tabular}{l}\n",
       "\t 18.6163\\\\\n",
       "\\end{tabular}\n"
      ],
      "text/markdown": [
       "\n",
       "| 18.6163 |\n",
       "\n"
      ],
      "text/plain": [
       "     [,1]   \n",
       "[1,] 18.6163"
      ]
     },
     "metadata": {},
     "output_type": "display_data"
    }
   ],
   "source": [
    "a_t = as.matrix(c(0,1,0))\n",
    "\n",
    "error_muestreo = sqrt(t(a_t)%*%s_total%*%a_t*qt(1-alfa/2, n-1))\n",
    "at_xbarra_1 = t(a_sombrero)%*%t(xbarravector)\n",
    "\n",
    "\n",
    "Li = at_xbarra_1-error_muestreo\n",
    "Ls = at_xbarra_1+error_muestreo\n",
    "\n",
    "Li\n",
    "Ls\n"
   ]
  },
  {
   "cell_type": "code",
   "execution_count": 76,
   "id": "dccf23ef",
   "metadata": {},
   "outputs": [
    {
     "data": {
      "text/html": [
       "<table>\n",
       "<tbody>\n",
       "\t<tr><td>-13.07821</td></tr>\n",
       "</tbody>\n",
       "</table>\n"
      ],
      "text/latex": [
       "\\begin{tabular}{l}\n",
       "\t -13.07821\\\\\n",
       "\\end{tabular}\n"
      ],
      "text/markdown": [
       "\n",
       "| -13.07821 |\n",
       "\n"
      ],
      "text/plain": [
       "     [,1]     \n",
       "[1,] -13.07821"
      ]
     },
     "metadata": {},
     "output_type": "display_data"
    },
    {
     "data": {
      "text/html": [
       "<table>\n",
       "<tbody>\n",
       "\t<tr><td>14.7925</td></tr>\n",
       "</tbody>\n",
       "</table>\n"
      ],
      "text/latex": [
       "\\begin{tabular}{l}\n",
       "\t 14.7925\\\\\n",
       "\\end{tabular}\n"
      ],
      "text/markdown": [
       "\n",
       "| 14.7925 |\n",
       "\n"
      ],
      "text/plain": [
       "     [,1]   \n",
       "[1,] 14.7925"
      ]
     },
     "metadata": {},
     "output_type": "display_data"
    }
   ],
   "source": [
    "a_t = as.matrix(c(0,0,1))\n",
    "\n",
    "error_muestreo = sqrt(t(a_t)%*%s_total%*%a_t*qt(1-alfa/2, n-1))\n",
    "at_xbarra_1 = t(a_sombrero)%*%t(xbarravector)\n",
    "\n",
    "\n",
    "Li = at_xbarra_1-error_muestreo\n",
    "Ls = at_xbarra_1+error_muestreo\n",
    "\n",
    "Li\n",
    "Ls"
   ]
  },
  {
   "cell_type": "markdown",
   "id": "3b65918f",
   "metadata": {},
   "source": [
    "### d- \n",
    "\n",
    "### Test de normalidad multivariada\n"
   ]
  },
  {
   "cell_type": "code",
   "execution_count": 19,
   "id": "791da10d",
   "metadata": {},
   "outputs": [
    {
     "data": {
      "text/html": [
       "<table>\n",
       "<thead><tr><th scope=col>p value</th></tr></thead>\n",
       "<tbody>\n",
       "\t<tr><td>0.01112</td></tr>\n",
       "</tbody>\n",
       "</table>\n"
      ],
      "text/latex": [
       "\\begin{tabular}{r|l}\n",
       " p value\\\\\n",
       "\\hline\n",
       "\t 0.01112\\\\\n",
       "\\end{tabular}\n"
      ],
      "text/markdown": [
       "\n",
       "| p value |\n",
       "|---|\n",
       "| 0.01112 |\n",
       "\n"
      ],
      "text/plain": [
       "  p value\n",
       "1 0.01112"
      ]
     },
     "metadata": {},
     "output_type": "display_data"
    },
    {
     "data": {
      "text/html": [
       "<table>\n",
       "<thead><tr><th scope=col>p value</th></tr></thead>\n",
       "<tbody>\n",
       "\t<tr><td>no rechazo, hay normalidad multivariada</td></tr>\n",
       "</tbody>\n",
       "</table>\n"
      ],
      "text/latex": [
       "\\begin{tabular}{l}\n",
       " p value\\\\\n",
       "\\hline\n",
       "\t no rechazo, hay normalidad multivariada\\\\\n",
       "\\end{tabular}\n"
      ],
      "text/markdown": [
       "\n",
       "| p value |\n",
       "|---|\n",
       "| no rechazo, hay normalidad multivariada |\n",
       "\n"
      ],
      "text/plain": [
       "     p value                                \n",
       "[1,] no rechazo, hay normalidad multivariada"
      ]
     },
     "metadata": {},
     "output_type": "display_data"
    },
    {
     "data": {
      "image/png": "[encoded data removed]",
      "text/plain": [
       "Plot with title \"Chi-Square Q-Q Plot\""
      ]
     },
     "metadata": {},
     "output_type": "display_data"
    }
   ],
   "source": [
    "\n",
    "test = mvn(df, mvnTest = \"hz\", multivariateOutlierMethod = \"quan\")\n",
    "pvalue = test$multivariateNormality[3]\n",
    "pvalue\n",
    "ifelse(pvalue<alfa,\"rechazo, no hay normalidad\",\"no rechazo, hay normalidad multivariada\")\n",
    "\n",
    "\n",
    "\n",
    "\n",
    "\n",
    "\n",
    "\n",
    "\n",
    "\n"
   ]
  },
  {
   "cell_type": "code",
   "execution_count": null,
   "id": "be36c983",
   "metadata": {},
   "outputs": [],
   "source": []
  }
 ],
 "metadata": {
  "kernelspec": {
   "display_name": "R",
   "language": "R",
   "name": "ir"
  },
  "language_info": {
   "codemirror_mode": "r",
   "file_extension": ".r",
   "mimetype": "text/x-r-source",
   "name": "R",
   "pygments_lexer": "r",
   "version": "3.6.1"
  }
 },
 "nbformat": 4,
 "nbformat_minor": 5
}
