{
 "cells": [
  {
   "cell_type": "markdown",
   "id": "94000f17",
   "metadata": {},
   "source": [
    "### Repetimos exactamente mismo analisis pero quitando setosa"
   ]
  },
  {
   "cell_type": "markdown",
   "id": "f94f4453",
   "metadata": {},
   "source": [
    "#### Preparacion de data set"
   ]
  },
  {
   "cell_type": "code",
   "execution_count": 37,
   "id": "df770f0e",
   "metadata": {},
   "outputs": [],
   "source": [
    "library(dplyr)"
   ]
  },
  {
   "cell_type": "code",
   "execution_count": 38,
   "id": "45d1f2a6",
   "metadata": {},
   "outputs": [],
   "source": [
    "data(iris)\n",
    "df = iris"
   ]
  },
  {
   "cell_type": "code",
   "execution_count": 39,
   "id": "0cf56315",
   "metadata": {},
   "outputs": [],
   "source": [
    "df = select(df,Sepal.Width,Petal.Width,Species)\n",
    "df$Species = as.factor(df$Species)\n"
   ]
  },
  {
   "cell_type": "code",
   "execution_count": 40,
   "id": "7d7c8a15",
   "metadata": {},
   "outputs": [],
   "source": [
    "df = df[df$Species != \"setosa\",]"
   ]
  },
  {
   "cell_type": "markdown",
   "id": "b03e482a",
   "metadata": {},
   "source": [
    "### a -"
   ]
  },
  {
   "cell_type": "code",
   "execution_count": 9,
   "id": "94de3e6e",
   "metadata": {},
   "outputs": [
    {
     "data": {
      "image/png": "[encoded data removed]",
      "text/plain": [
       "plot without title"
      ]
     },
     "metadata": {},
     "output_type": "display_data"
    }
   ],
   "source": [
    "plot(df$Sepal.Width,df$Petal.Width,col=df$Species, xlab=\"Ancho Sepalo\", ylab=\"Ancho Petalo\")\n",
    "\n",
    "legend(\"bottomleft\", legend = unique(df$Species),\n",
    "       lwd = 3, col=unique(df$Species))"
   ]
  },
  {
   "cell_type": "code",
   "execution_count": 10,
   "id": "b148adb7",
   "metadata": {},
   "outputs": [
    {
     "data": {
      "text/html": [
       "<table>\n",
       "<thead><tr><th scope=col>p value</th></tr></thead>\n",
       "<tbody>\n",
       "\t<tr><td>0.0003440401</td></tr>\n",
       "</tbody>\n",
       "</table>\n"
      ],
      "text/latex": [
       "\\begin{tabular}{r|l}\n",
       " p value\\\\\n",
       "\\hline\n",
       "\t 0.0003440401\\\\\n",
       "\\end{tabular}\n"
      ],
      "text/markdown": [
       "\n",
       "| p value |\n",
       "|---|\n",
       "| 0.0003440401 |\n",
       "\n"
      ],
      "text/plain": [
       "  p value     \n",
       "1 0.0003440401"
      ]
     },
     "metadata": {},
     "output_type": "display_data"
    },
    {
     "data": {
      "text/html": [
       "<table>\n",
       "<thead><tr><th scope=col>p value</th></tr></thead>\n",
       "<tbody>\n",
       "\t<tr><td>Rechazo, no hay normalidad multivariada</td></tr>\n",
       "</tbody>\n",
       "</table>\n"
      ],
      "text/latex": [
       "\\begin{tabular}{l}\n",
       " p value\\\\\n",
       "\\hline\n",
       "\t Rechazo, no hay normalidad multivariada\\\\\n",
       "\\end{tabular}\n"
      ],
      "text/markdown": [
       "\n",
       "| p value |\n",
       "|---|\n",
       "| Rechazo, no hay normalidad multivariada |\n",
       "\n"
      ],
      "text/plain": [
       "     p value                                \n",
       "[1,] Rechazo, no hay normalidad multivariada"
      ]
     },
     "metadata": {},
     "output_type": "display_data"
    },
    {
     "data": {
      "image/png": "[encoded data removed]",
      "text/plain": [
       "Plot with title \"Chi-Square Q-Q Plot\""
      ]
     },
     "metadata": {},
     "output_type": "display_data"
    }
   ],
   "source": [
    "alfa = 0.001\n",
    "library(MVN)\n",
    "test = mvn(select(df,Sepal.Width,Petal.Width), mvnTest = \"hz\", multivariateOutlierMethod = \"quan\")\n",
    "pvalue = test$multivariateNormality[3]\n",
    "pvalue\n",
    "ifelse(pvalue<alfa,\"Rechazo, no hay normalidad multivariada\",\"No rechazo, hay normalidad multivariada\")"
   ]
  },
  {
   "cell_type": "code",
   "execution_count": 11,
   "id": "9a0c9cf7",
   "metadata": {},
   "outputs": [
    {
     "data": {
      "text/html": [
       "<ol class=list-inline>\n",
       "\t<li>versicolor</li>\n",
       "\t<li>virginica</li>\n",
       "</ol>\n",
       "\n",
       "<details>\n",
       "\t<summary style=display:list-item;cursor:pointer>\n",
       "\t\t<strong>Levels</strong>:\n",
       "\t</summary>\n",
       "\t<ol class=list-inline>\n",
       "\t\t<li>'setosa'</li>\n",
       "\t\t<li>'versicolor'</li>\n",
       "\t\t<li>'virginica'</li>\n",
       "\t</ol>\n",
       "</details>"
      ],
      "text/latex": [
       "\\begin{enumerate*}\n",
       "\\item versicolor\n",
       "\\item virginica\n",
       "\\end{enumerate*}\n",
       "\n",
       "\\emph{Levels}: \\begin{enumerate*}\n",
       "\\item 'setosa'\n",
       "\\item 'versicolor'\n",
       "\\item 'virginica'\n",
       "\\end{enumerate*}\n"
      ],
      "text/markdown": [
       "1. versicolor\n",
       "2. virginica\n",
       "\n",
       "\n",
       "\n",
       "**Levels**: 1. 'setosa'\n",
       "2. 'versicolor'\n",
       "3. 'virginica'\n",
       "\n",
       "\n"
      ],
      "text/plain": [
       "[1] versicolor virginica \n",
       "Levels: setosa versicolor virginica"
      ]
     },
     "metadata": {},
     "output_type": "display_data"
    }
   ],
   "source": [
    "unique(df$Species)"
   ]
  },
  {
   "cell_type": "markdown",
   "id": "b48fa364",
   "metadata": {},
   "source": [
    "### Test de igualdad de varianzas"
   ]
  },
  {
   "cell_type": "code",
   "execution_count": 16,
   "id": "4d674089",
   "metadata": {},
   "outputs": [
    {
     "data": {
      "text/html": [
       "1"
      ],
      "text/latex": [
       "1"
      ],
      "text/markdown": [
       "1"
      ],
      "text/plain": [
       "[1] 1"
      ]
     },
     "metadata": {},
     "output_type": "display_data"
    }
   ],
   "source": [
    "p <- 2\n",
    "k <- 2\n",
    "s <- min(p,k-1)\n",
    "s"
   ]
  },
  {
   "cell_type": "code",
   "execution_count": 17,
   "id": "fbecac9c",
   "metadata": {},
   "outputs": [],
   "source": [
    "#n1 = nrow(df[df$Species==\"setosa\",])\n",
    "n2 = nrow(df[df$Species==\"versicolor\",])\n",
    "n3 = nrow(df[df$Species==\"virginica\",])\n",
    "n = n1+n2+n3"
   ]
  },
  {
   "cell_type": "code",
   "execution_count": 19,
   "id": "68d7bd87",
   "metadata": {},
   "outputs": [
    {
     "data": {
      "text/html": [
       "<table>\n",
       "<thead><tr><th></th><th scope=col>Sepal.Length</th><th scope=col>Sepal.Width</th></tr></thead>\n",
       "<tbody>\n",
       "\t<tr><th scope=row>Sepal.Length</th><td>32.8680</td><td>8.7684 </td></tr>\n",
       "\t<tr><th scope=row>Sepal.Width</th><td> 8.7684</td><td>9.9212 </td></tr>\n",
       "</tbody>\n",
       "</table>\n"
      ],
      "text/latex": [
       "\\begin{tabular}{r|ll}\n",
       "  & Sepal.Length & Sepal.Width\\\\\n",
       "\\hline\n",
       "\tSepal.Length & 32.8680 & 8.7684 \\\\\n",
       "\tSepal.Width &  8.7684 & 9.9212 \\\\\n",
       "\\end{tabular}\n"
      ],
      "text/markdown": [
       "\n",
       "| <!--/--> | Sepal.Length | Sepal.Width |\n",
       "|---|---|---|\n",
       "| Sepal.Length | 32.8680 | 8.7684  |\n",
       "| Sepal.Width |  8.7684 | 9.9212  |\n",
       "\n"
      ],
      "text/plain": [
       "             Sepal.Length Sepal.Width\n",
       "Sepal.Length 32.8680      8.7684     \n",
       "Sepal.Width   8.7684      9.9212     "
      ]
     },
     "metadata": {},
     "output_type": "display_data"
    }
   ],
   "source": [
    "#q1 = (n1-1)*var(df[df$Species == \"setosa\",][,1:2])\n",
    "q2 = (n2-1)*var(df[df$Species == \"versicolor\",][,1:2])\n",
    "q3 = (n3-1)*var(df[df$Species == \"virginica\",][,1:2])\n",
    "\n",
    "u = q2+q3\n",
    "u"
   ]
  },
  {
   "cell_type": "code",
   "execution_count": 20,
   "id": "42a7880a",
   "metadata": {},
   "outputs": [
    {
     "data": {
      "text/html": [
       "<dl class=dl-horizontal>\n",
       "\t<dt>Sepal.Length</dt>\n",
       "\t\t<dd>6.262</dd>\n",
       "\t<dt>Sepal.Width</dt>\n",
       "\t\t<dd>2.872</dd>\n",
       "</dl>\n"
      ],
      "text/latex": [
       "\\begin{description*}\n",
       "\\item[Sepal.Length] 6.262\n",
       "\\item[Sepal.Width] 2.872\n",
       "\\end{description*}\n"
      ],
      "text/markdown": [
       "Sepal.Length\n",
       ":   6.262Sepal.Width\n",
       ":   2.872\n",
       "\n"
      ],
      "text/plain": [
       "Sepal.Length  Sepal.Width \n",
       "       6.262        2.872 "
      ]
     },
     "metadata": {},
     "output_type": "display_data"
    },
    {
     "data": {
      "text/html": [
       "<table>\n",
       "<thead><tr><th scope=col>Sepal.Length</th><th scope=col>Sepal.Width</th></tr></thead>\n",
       "<tbody>\n",
       "\t<tr><td>10.6276</td><td>3.3252 </td></tr>\n",
       "\t<tr><td> 3.3252</td><td>1.0404 </td></tr>\n",
       "</tbody>\n",
       "</table>\n"
      ],
      "text/latex": [
       "\\begin{tabular}{ll}\n",
       " Sepal.Length & Sepal.Width\\\\\n",
       "\\hline\n",
       "\t 10.6276 & 3.3252 \\\\\n",
       "\t  3.3252 & 1.0404 \\\\\n",
       "\\end{tabular}\n"
      ],
      "text/markdown": [
       "\n",
       "| Sepal.Length | Sepal.Width |\n",
       "|---|---|\n",
       "| 10.6276 | 3.3252  |\n",
       "|  3.3252 | 1.0404  |\n",
       "\n"
      ],
      "text/plain": [
       "     Sepal.Length Sepal.Width\n",
       "[1,] 10.6276      3.3252     \n",
       "[2,]  3.3252      1.0404     "
      ]
     },
     "metadata": {},
     "output_type": "display_data"
    }
   ],
   "source": [
    "xraya2 <- apply(df[df$Species == \"versicolor\",][,1:2], 2, mean)\n",
    "xraya3 <- apply(df[df$Species == \"virginica\",][,1:2], 2, mean)\n",
    "\n",
    "xraya <- (1/n)*(n2*xraya2+n3*xraya3)\n",
    "\n",
    "\n",
    "H <- n2*(xraya2-xraya)%*%t(xraya2-xraya)+n3*(xraya3-xraya)%*%t(xraya3-xraya)\n",
    "\n",
    "xraya\n",
    "\n",
    "H"
   ]
  },
  {
   "cell_type": "markdown",
   "id": "d3433a52",
   "metadata": {},
   "source": [
    "### Finalmente recordando el test se tiene\n",
    "\n",
    "<img src=\"test_igualdad_var_cov.png\" width=\"800\" height=\"400\">\n",
    "\n"
   ]
  },
  {
   "cell_type": "markdown",
   "id": "d736e5ce",
   "metadata": {},
   "source": [
    "Con \n",
    "\n",
    "\n",
    "<img src=\"k_alfa.png\" width=\"200\" height=\"200\">\n",
    "\n"
   ]
  },
  {
   "cell_type": "markdown",
   "id": "f3ae3626",
   "metadata": {},
   "source": [
    "#### Forma exacta"
   ]
  },
  {
   "cell_type": "code",
   "execution_count": 21,
   "id": "6aef084a",
   "metadata": {},
   "outputs": [
    {
     "data": {
      "text/html": [
       "'No rechazo Ho, puedo asumir igualdad de matrices de covarianzas'"
      ],
      "text/latex": [
       "'No rechazo Ho, puedo asumir igualdad de matrices de covarianzas'"
      ],
      "text/markdown": [
       "'No rechazo Ho, puedo asumir igualdad de matrices de covarianzas'"
      ],
      "text/plain": [
       "[1] \"No rechazo Ho, puedo asumir igualdad de matrices de covarianzas\""
      ]
     },
     "metadata": {},
     "output_type": "display_data"
    }
   ],
   "source": [
    "gamma <- (det(q1/n1)^(n1/2)*det(q2/n2)^(n2/2)*det(q3/n3)^(n3/2))/(det(u/n)^(n/2))\n",
    "gl <- p*k+p*(p+1)*(k/2)\n",
    "\n",
    "k_alfa = (-1/(n*p))*exp(qchisq(alfa, df=gl) )\n",
    "\n",
    "ifelse(gamma<k_alfa,\"Rechazo Ho, no puedo asumir igualdad de matrices de covarianza\",\"No rechazo Ho, puedo asumir igualdad de matrices de covarianzas\")\n"
   ]
  },
  {
   "cell_type": "markdown",
   "id": "a8731f57",
   "metadata": {},
   "source": [
    "Para calcular el p valor conviene despejar desde gamma < k_alfa, entonces el p valor viene dado por\n",
    "\n",
    "P(chi< - np ln(gamma)) entonces"
   ]
  },
  {
   "cell_type": "code",
   "execution_count": 22,
   "id": "959abef0",
   "metadata": {},
   "outputs": [
    {
     "data": {
      "text/html": [
       "1"
      ],
      "text/latex": [
       "1"
      ],
      "text/markdown": [
       "1"
      ],
      "text/plain": [
       "[1] 1"
      ]
     },
     "metadata": {},
     "output_type": "display_data"
    }
   ],
   "source": [
    "p_valor_exacto = pchisq(-n*p*log(gamma), df=gl)\n",
    "p_valor_exacto"
   ]
  },
  {
   "cell_type": "markdown",
   "id": "ceb97935",
   "metadata": {},
   "source": [
    "#### Forma aproximada, aca usamos la convergencia en distribucion de -2log(gamma) a una chi cuadrado"
   ]
  },
  {
   "cell_type": "code",
   "execution_count": 28,
   "id": "9eda1cc8",
   "metadata": {},
   "outputs": [
    {
     "data": {
      "text/html": [
       "0.641364199177209"
      ],
      "text/latex": [
       "0.641364199177209"
      ],
      "text/markdown": [
       "0.641364199177209"
      ],
      "text/plain": [
       "[1] 0.6413642"
      ]
     },
     "metadata": {},
     "output_type": "display_data"
    },
    {
     "data": {
      "text/html": [
       "'No rechazo Ho, puedo asumir igualdad de matrices de covarianzas'"
      ],
      "text/latex": [
       "'No rechazo Ho, puedo asumir igualdad de matrices de covarianzas'"
      ],
      "text/markdown": [
       "'No rechazo Ho, puedo asumir igualdad de matrices de covarianzas'"
      ],
      "text/plain": [
       "[1] \"No rechazo Ho, puedo asumir igualdad de matrices de covarianzas\""
      ]
     },
     "metadata": {},
     "output_type": "display_data"
    }
   ],
   "source": [
    "gamma <- (det(q1/n1)^(n1/2)*det(q2/n2)^(n2/2)*det(q3/n3)^(n3/2))/(det(u/n)^(n/2))\n",
    "gamma_log = -2*log(gamma)\n",
    "\n",
    "gl <- p*k+p*(p+1)*k/2-(p*k+p*(p+1)/2)\n",
    "\n",
    "pvalor <- 1-pchisq(gamma_log, gl, ncp=0, lower.tail = FALSE)\n",
    "\n",
    "pvalor\n",
    "\n",
    "ifelse(pvalor>alfa,\"No rechazo Ho, puedo asumir igualdad de matrices de covarianzas\",\n",
    "       \"Rechazo Ho, no puedo asumir igualdad de matrices de covarianza\")\n",
    "# A nivel 0.01 no rechazo igualdad de varianzas entre las especies versi y virgi"
   ]
  },
  {
   "cell_type": "markdown",
   "id": "cfead5e6",
   "metadata": {},
   "source": [
    "### b -\n",
    "\n",
    "### Test igualdad de medias suponiendo igualdad en las covarianzas\n",
    "\n",
    "#### Recordando lo visto en clase, el test cociente de verosimilitud viene dado por"
   ]
  },
  {
   "cell_type": "markdown",
   "id": "8daa3d5f",
   "metadata": {},
   "source": [
    "<img src=\"test_igualdad_medias(igualcov_).png\" width=\"800\" height=\"400\">\n"
   ]
  },
  {
   "cell_type": "markdown",
   "id": "e2af95dc",
   "metadata": {},
   "source": [
    "#### Forma Exacta"
   ]
  },
  {
   "cell_type": "code",
   "execution_count": 26,
   "id": "93be4897",
   "metadata": {},
   "outputs": [
    {
     "data": {
      "text/html": [
       "'No rechazo Ho, todas las medias son iguales'"
      ],
      "text/latex": [
       "'No rechazo Ho, todas las medias son iguales'"
      ],
      "text/markdown": [
       "'No rechazo Ho, todas las medias son iguales'"
      ],
      "text/plain": [
       "[1] \"No rechazo Ho, todas las medias son iguales\""
      ]
     },
     "metadata": {},
     "output_type": "display_data"
    },
    {
     "data": {
      "text/html": [
       "1"
      ],
      "text/latex": [
       "1"
      ],
      "text/markdown": [
       "1"
      ],
      "text/plain": [
       "[1] 1"
      ]
     },
     "metadata": {},
     "output_type": "display_data"
    }
   ],
   "source": [
    "gammab <- (det(u)/(det(u+H)))^{n/2}\n",
    "\n",
    "gl <- p*k+p*(p+1)*(k/2)\n",
    "\n",
    "k_alfa = (-1/(n*p))*exp(qchisq(alfa, df=gl) )\n",
    "\n",
    "ifelse(gamma<k_alfa,\"Rechazo Ho, al menos una media es distinta\",\"No rechazo Ho, todas las medias son iguales\")\n",
    "\n",
    "p_valor_exacto = pchisq(-n*p*log(gamma), df=gl)\n",
    "p_valor_exacto"
   ]
  },
  {
   "cell_type": "markdown",
   "id": "ac4e7dca",
   "metadata": {},
   "source": [
    "#### Forma Aproximada"
   ]
  },
  {
   "cell_type": "code",
   "execution_count": 27,
   "id": "d817f703",
   "metadata": {},
   "outputs": [
    {
     "data": {
      "text/html": [
       "'No rechazo Ho, todas las medias son iguales'"
      ],
      "text/latex": [
       "'No rechazo Ho, todas las medias son iguales'"
      ],
      "text/markdown": [
       "'No rechazo Ho, todas las medias son iguales'"
      ],
      "text/plain": [
       "[1] \"No rechazo Ho, todas las medias son iguales\""
      ]
     },
     "metadata": {},
     "output_type": "display_data"
    },
    {
     "data": {
      "text/html": [
       "0.199679894206854"
      ],
      "text/latex": [
       "0.199679894206854"
      ],
      "text/markdown": [
       "0.199679894206854"
      ],
      "text/plain": [
       "[1] 0.1996799"
      ]
     },
     "metadata": {},
     "output_type": "display_data"
    }
   ],
   "source": [
    "gl <- p*k+p*(p+1)/2-(p+p*(p+1)/2)\n",
    "\n",
    "gamma_logb = -2*log(gammab)\n",
    "\n",
    "pvalor <-  pchisq(gamma_log, gl, ncp=0, lower.tail = FALSE)\n",
    "\n",
    "ifelse(pvalor<alfa,\"Rechazo Ho, al menos una media es distinta\",\"No rechazo Ho, todas las medias son iguales\")\n",
    "\n",
    "pvalor\n"
   ]
  },
  {
   "cell_type": "markdown",
   "id": "ffe31826",
   "metadata": {},
   "source": [
    "### c-\n",
    "\n",
    "#### Coordenadas discriminantes"
   ]
  },
  {
   "cell_type": "markdown",
   "id": "7fe1d147",
   "metadata": {},
   "source": [
    "Recordar segun nomenclatura\n",
    "\n",
    "$ \\Large \\frac{U}{n}$ estima a $\\Sigma_w$\n",
    "$ \\Large \\frac{H}{n}$ estima a $\\Sigma_B$\n",
    "\n",
    "\n",
    "A su vez \n",
    "\n",
    "$\\alpha_j$ es el autovector asociado a $\\Sigma_w^{-1}~\\Sigma_B$"
   ]
  },
  {
   "cell_type": "code",
   "execution_count": 70,
   "id": "35aa168c",
   "metadata": {},
   "outputs": [],
   "source": [
    "a1 = eigen(solve(u/n)%*%(B/n))$vectors[,1]\n",
    "A = as.matrix(cbind(a1))\n",
    "\n",
    "zraya2 <- t(A)%*%xraya2\n",
    "zraya3 <- t(A)%*%xraya3\n",
    "\n",
    "\n"
   ]
  },
  {
   "cell_type": "markdown",
   "id": "7605f29d",
   "metadata": {},
   "source": [
    "#### Proyecto sobre las coordenadas discriminantes"
   ]
  },
  {
   "cell_type": "code",
   "execution_count": 71,
   "id": "f36bb792",
   "metadata": {},
   "outputs": [],
   "source": [
    "x2proy <- as.vector(t(A)%*%t(df[df$Species==\"versicolor\",][,1:2]))\n",
    "x3proy <- as.vector(t(A)%*%t(df[df$Species==\"virginica\",][,1:2]))"
   ]
  },
  {
   "cell_type": "code",
   "execution_count": 72,
   "id": "a2aefb89",
   "metadata": {},
   "outputs": [
    {
     "data": {
      "image/png": "[encoded data removed]",
      "text/plain": [
       "plot without title"
      ]
     },
     "metadata": {},
     "output_type": "display_data"
    }
   ],
   "source": [
    "plot(x2proy,c(rep(0,n2)), col=\"blue\",\n",
    "     ylim=c(-0.1,0.1), pch=20, ylab=\"\", lwd=3)\n",
    "points(x3proy,c(rep(0,n3)), col=\"green4\",pch=20, lwd=3)\n",
    "points(zraya2, 0, pch=15, lwd=4, col=\"gray3\")\n",
    "points(zraya3, 0, pch=17, lwd=4, col=\"gray3\")\n",
    "abline(h=0, lty=2, col=\"gray\")"
   ]
  },
  {
   "cell_type": "code",
   "execution_count": null,
   "id": "c6795219",
   "metadata": {},
   "outputs": [],
   "source": []
  },
  {
   "cell_type": "code",
   "execution_count": null,
   "id": "a78c93e6",
   "metadata": {},
   "outputs": [],
   "source": []
  },
  {
   "cell_type": "code",
   "execution_count": null,
   "id": "eb20cb24",
   "metadata": {},
   "outputs": [],
   "source": []
  }
 ],
 "metadata": {
  "kernelspec": {
   "display_name": "R",
   "language": "R",
   "name": "ir"
  },
  "language_info": {
   "codemirror_mode": "r",
   "file_extension": ".r",
   "mimetype": "text/x-r-source",
   "name": "R",
   "pygments_lexer": "r",
   "version": "3.6.1"
  }
 },
 "nbformat": 4,
 "nbformat_minor": 5
}
