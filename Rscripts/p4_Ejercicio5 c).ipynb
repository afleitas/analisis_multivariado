{
 "cells": [
  {
   "cell_type": "markdown",
   "id": "2d49be1d",
   "metadata": {},
   "source": [
    "### Repetimos exactamente mismo analisis pero quitando setosa"
   ]
  },
  {
   "cell_type": "markdown",
   "id": "f94f4453",
   "metadata": {},
   "source": [
    "#### Preparacion de data set"
   ]
  },
  {
   "cell_type": "code",
   "execution_count": 1,
   "id": "df770f0e",
   "metadata": {},
   "outputs": [
    {
     "name": "stderr",
     "output_type": "stream",
     "text": [
      "\n",
      "Attaching package: 'dplyr'\n",
      "\n",
      "The following objects are masked from 'package:stats':\n",
      "\n",
      "    filter, lag\n",
      "\n",
      "The following objects are masked from 'package:base':\n",
      "\n",
      "    intersect, setdiff, setequal, union\n",
      "\n"
     ]
    }
   ],
   "source": [
    "library(dplyr)"
   ]
  },
  {
   "cell_type": "code",
   "execution_count": 2,
   "id": "45d1f2a6",
   "metadata": {},
   "outputs": [],
   "source": [
    "data(iris)\n",
    "df = iris"
   ]
  },
  {
   "cell_type": "code",
   "execution_count": 3,
   "id": "0cf56315",
   "metadata": {},
   "outputs": [],
   "source": [
    "df = select(df,Sepal.Width,Petal.Width,Species)\n",
    "df$Species = as.factor(df$Species)\n"
   ]
  },
  {
   "cell_type": "code",
   "execution_count": 4,
   "id": "f393cd38",
   "metadata": {},
   "outputs": [],
   "source": [
    "df = df[df$Species != \"setosa\",]"
   ]
  },
  {
   "cell_type": "markdown",
   "id": "b03e482a",
   "metadata": {},
   "source": [
    "### a -"
   ]
  },
  {
   "cell_type": "code",
   "execution_count": 5,
   "id": "94de3e6e",
   "metadata": {},
   "outputs": [
    {
     "data": {
      "image/png": "[encoded data removed]",
      "text/plain": [
       "plot without title"
      ]
     },
     "metadata": {},
     "output_type": "display_data"
    }
   ],
   "source": [
    "plot(df$Sepal.Width,df$Petal.Width,col=df$Species, xlab=\"Ancho Sepalo\", ylab=\"Ancho Petalo\")\n",
    "\n",
    "legend(\"bottomleft\", legend = unique(df$Species),\n",
    "       lwd = 3, col=unique(df$Species))"
   ]
  },
  {
   "cell_type": "code",
   "execution_count": 6,
   "id": "b148adb7",
   "metadata": {},
   "outputs": [
    {
     "data": {
      "text/html": [
       "<table>\n",
       "<thead><tr><th scope=col>p value</th></tr></thead>\n",
       "<tbody>\n",
       "\t<tr><td>0.0003440401</td></tr>\n",
       "</tbody>\n",
       "</table>\n"
      ],
      "text/latex": [
       "\\begin{tabular}{r|l}\n",
       " p value\\\\\n",
       "\\hline\n",
       "\t 0.0003440401\\\\\n",
       "\\end{tabular}\n"
      ],
      "text/markdown": [
       "\n",
       "| p value |\n",
       "|---|\n",
       "| 0.0003440401 |\n",
       "\n"
      ],
      "text/plain": [
       "  p value     \n",
       "1 0.0003440401"
      ]
     },
     "metadata": {},
     "output_type": "display_data"
    },
    {
     "data": {
      "text/html": [
       "<table>\n",
       "<thead><tr><th scope=col>p value</th></tr></thead>\n",
       "<tbody>\n",
       "\t<tr><td>Rechazo, no hay normalidad multivariada</td></tr>\n",
       "</tbody>\n",
       "</table>\n"
      ],
      "text/latex": [
       "\\begin{tabular}{l}\n",
       " p value\\\\\n",
       "\\hline\n",
       "\t Rechazo, no hay normalidad multivariada\\\\\n",
       "\\end{tabular}\n"
      ],
      "text/markdown": [
       "\n",
       "| p value |\n",
       "|---|\n",
       "| Rechazo, no hay normalidad multivariada |\n",
       "\n"
      ],
      "text/plain": [
       "     p value                                \n",
       "[1,] Rechazo, no hay normalidad multivariada"
      ]
     },
     "metadata": {},
     "output_type": "display_data"
    },
    {
     "data": {
      "image/png": "[encoded data removed]",
      "text/plain": [
       "Plot with title \"Chi-Square Q-Q Plot\""
      ]
     },
     "metadata": {},
     "output_type": "display_data"
    }
   ],
   "source": [
    "alfa = 0.001\n",
    "library(MVN)\n",
    "test = mvn(select(df,Sepal.Width,Petal.Width), mvnTest = \"hz\", multivariateOutlierMethod = \"quan\")\n",
    "pvalue = test$multivariateNormality[3]\n",
    "pvalue\n",
    "ifelse(pvalue<alfa,\"Rechazo, no hay normalidad multivariada\",\"No rechazo, hay normalidad multivariada\")"
   ]
  },
  {
   "cell_type": "code",
   "execution_count": 7,
   "id": "9a0c9cf7",
   "metadata": {},
   "outputs": [
    {
     "data": {
      "text/html": [
       "<ol class=list-inline>\n",
       "\t<li>versicolor</li>\n",
       "\t<li>virginica</li>\n",
       "</ol>\n",
       "\n",
       "<details>\n",
       "\t<summary style=display:list-item;cursor:pointer>\n",
       "\t\t<strong>Levels</strong>:\n",
       "\t</summary>\n",
       "\t<ol class=list-inline>\n",
       "\t\t<li>'setosa'</li>\n",
       "\t\t<li>'versicolor'</li>\n",
       "\t\t<li>'virginica'</li>\n",
       "\t</ol>\n",
       "</details>"
      ],
      "text/latex": [
       "\\begin{enumerate*}\n",
       "\\item versicolor\n",
       "\\item virginica\n",
       "\\end{enumerate*}\n",
       "\n",
       "\\emph{Levels}: \\begin{enumerate*}\n",
       "\\item 'setosa'\n",
       "\\item 'versicolor'\n",
       "\\item 'virginica'\n",
       "\\end{enumerate*}\n"
      ],
      "text/markdown": [
       "1. versicolor\n",
       "2. virginica\n",
       "\n",
       "\n",
       "\n",
       "**Levels**: 1. 'setosa'\n",
       "2. 'versicolor'\n",
       "3. 'virginica'\n",
       "\n",
       "\n"
      ],
      "text/plain": [
       "[1] versicolor virginica \n",
       "Levels: setosa versicolor virginica"
      ]
     },
     "metadata": {},
     "output_type": "display_data"
    }
   ],
   "source": [
    "unique(df$Species)"
   ]
  },
  {
   "cell_type": "markdown",
   "id": "b48fa364",
   "metadata": {},
   "source": [
    "### Test de igualdad de varianzas"
   ]
  },
  {
   "cell_type": "code",
   "execution_count": 8,
   "id": "4d674089",
   "metadata": {},
   "outputs": [],
   "source": [
    "p <- 2\n",
    "k <- 2\n"
   ]
  },
  {
   "cell_type": "code",
   "execution_count": 18,
   "id": "fbecac9c",
   "metadata": {},
   "outputs": [],
   "source": [
    "#n1 = nrow(df[df$Species==\"setosa\",])\n",
    "n2 = nrow(df[df$Species==\"versicolor\",])\n",
    "n3 = nrow(df[df$Species==\"virginica\",])\n",
    "n = n2+n3"
   ]
  },
  {
   "cell_type": "code",
   "execution_count": 23,
   "id": "68d7bd87",
   "metadata": {},
   "outputs": [
    {
     "data": {
      "text/html": [
       "<table>\n",
       "<thead><tr><th></th><th scope=col>Sepal.Width</th><th scope=col>Petal.Width</th></tr></thead>\n",
       "<tbody>\n",
       "\t<tr><th scope=row>Sepal.Width</th><td>9.9212</td><td>4.3528</td></tr>\n",
       "\t<tr><th scope=row>Petal.Width</th><td>4.3528</td><td>5.6124</td></tr>\n",
       "</tbody>\n",
       "</table>\n"
      ],
      "text/latex": [
       "\\begin{tabular}{r|ll}\n",
       "  & Sepal.Width & Petal.Width\\\\\n",
       "\\hline\n",
       "\tSepal.Width & 9.9212 & 4.3528\\\\\n",
       "\tPetal.Width & 4.3528 & 5.6124\\\\\n",
       "\\end{tabular}\n"
      ],
      "text/markdown": [
       "\n",
       "| <!--/--> | Sepal.Width | Petal.Width |\n",
       "|---|---|---|\n",
       "| Sepal.Width | 9.9212 | 4.3528 |\n",
       "| Petal.Width | 4.3528 | 5.6124 |\n",
       "\n"
      ],
      "text/plain": [
       "            Sepal.Width Petal.Width\n",
       "Sepal.Width 9.9212      4.3528     \n",
       "Petal.Width 4.3528      5.6124     "
      ]
     },
     "metadata": {},
     "output_type": "display_data"
    }
   ],
   "source": [
    "#q1 = (n1-1)*var(df[df$Species == \"setosa\",][,1:2])\n",
    "q2 = (n2-1)*var(df[df$Species == \"versicolor\",][,1:2])\n",
    "q3 = (n3-1)*var(df[df$Species == \"virginica\",][,1:2])\n",
    "\n",
    "u = q2+q3\n",
    "u"
   ]
  },
  {
   "cell_type": "code",
   "execution_count": 24,
   "id": "42a7880a",
   "metadata": {},
   "outputs": [
    {
     "data": {
      "text/html": [
       "<dl class=dl-horizontal>\n",
       "\t<dt>Sepal.Width</dt>\n",
       "\t\t<dd>2.872</dd>\n",
       "\t<dt>Petal.Width</dt>\n",
       "\t\t<dd>1.676</dd>\n",
       "</dl>\n"
      ],
      "text/latex": [
       "\\begin{description*}\n",
       "\\item[Sepal.Width] 2.872\n",
       "\\item[Petal.Width] 1.676\n",
       "\\end{description*}\n"
      ],
      "text/markdown": [
       "Sepal.Width\n",
       ":   2.872Petal.Width\n",
       ":   1.676\n",
       "\n"
      ],
      "text/plain": [
       "Sepal.Width Petal.Width \n",
       "      2.872       1.676 "
      ]
     },
     "metadata": {},
     "output_type": "display_data"
    },
    {
     "data": {
      "text/html": [
       "<table>\n",
       "<thead><tr><th scope=col>Sepal.Width</th><th scope=col>Petal.Width</th></tr></thead>\n",
       "<tbody>\n",
       "\t<tr><td>1.0404</td><td> 3.57 </td></tr>\n",
       "\t<tr><td>3.5700</td><td>12.25 </td></tr>\n",
       "</tbody>\n",
       "</table>\n"
      ],
      "text/latex": [
       "\\begin{tabular}{ll}\n",
       " Sepal.Width & Petal.Width\\\\\n",
       "\\hline\n",
       "\t 1.0404 &  3.57 \\\\\n",
       "\t 3.5700 & 12.25 \\\\\n",
       "\\end{tabular}\n"
      ],
      "text/markdown": [
       "\n",
       "| Sepal.Width | Petal.Width |\n",
       "|---|---|\n",
       "| 1.0404 |  3.57  |\n",
       "| 3.5700 | 12.25  |\n",
       "\n"
      ],
      "text/plain": [
       "     Sepal.Width Petal.Width\n",
       "[1,] 1.0404       3.57      \n",
       "[2,] 3.5700      12.25      "
      ]
     },
     "metadata": {},
     "output_type": "display_data"
    }
   ],
   "source": [
    "xraya2 <- apply(df[df$Species == \"versicolor\",][,1:2], 2, mean)\n",
    "xraya3 <- apply(df[df$Species == \"virginica\",][,1:2], 2, mean)\n",
    "\n",
    "xraya <- (1/n)*(n2*xraya2+n3*xraya3)\n",
    "\n",
    "\n",
    "H <- n2*(xraya2-xraya)%*%t(xraya2-xraya)+n3*(xraya3-xraya)%*%t(xraya3-xraya)\n",
    "\n",
    "xraya\n",
    "\n",
    "H"
   ]
  },
  {
   "cell_type": "markdown",
   "id": "d3433a52",
   "metadata": {},
   "source": [
    "### Finalmente recordando el test se tiene\n",
    "\n",
    "<img src=\"test_igualdad_var_cov.png\" width=\"800\" height=\"400\">\n",
    "\n"
   ]
  },
  {
   "cell_type": "markdown",
   "id": "d736e5ce",
   "metadata": {},
   "source": [
    "Con \n",
    "\n",
    "\n",
    "<img src=\"k_alfa.png\" width=\"200\" height=\"200\">\n",
    "\n"
   ]
  },
  {
   "cell_type": "markdown",
   "id": "ceb97935",
   "metadata": {},
   "source": [
    "#### Forma aproximada, aca usamos la convergencia en distribucion de -2log(gamma) a una chi cuadrado"
   ]
  },
  {
   "cell_type": "code",
   "execution_count": 25,
   "id": "9eda1cc8",
   "metadata": {},
   "outputs": [
    {
     "data": {
      "text/html": [
       "0.0196044331375531"
      ],
      "text/latex": [
       "0.0196044331375531"
      ],
      "text/markdown": [
       "0.0196044331375531"
      ],
      "text/plain": [
       "[1] 0.01960443"
      ]
     },
     "metadata": {},
     "output_type": "display_data"
    },
    {
     "data": {
      "text/html": [
       "'No rechazo Ho, puedo asumir igualdad de matrices de covarianzas'"
      ],
      "text/latex": [
       "'No rechazo Ho, puedo asumir igualdad de matrices de covarianzas'"
      ],
      "text/markdown": [
       "'No rechazo Ho, puedo asumir igualdad de matrices de covarianzas'"
      ],
      "text/plain": [
       "[1] \"No rechazo Ho, puedo asumir igualdad de matrices de covarianzas\""
      ]
     },
     "metadata": {},
     "output_type": "display_data"
    }
   ],
   "source": [
    "#gamma <- (det(q1/n1)^(n1/2)*det(q2/n2)^(n2/2)*det(q3/n3)^(n3/2))/(det(u/n)^(n/2))\n",
    "gamma <- (det(q2/n2)^(n2/2)*det(q3/n3)^(n3/2))/(det(u/n)^(n/2))\n",
    "gamma_log = -2*log(gamma)\n",
    "\n",
    "gl <- p*k+p*(p+1)*k/2-(p*k+p*(p+1)/2)\n",
    "\n",
    "pvalor <- pchisq(gamma_log, gl, ncp=0, lower.tail = FALSE)\n",
    "\n",
    "pvalor\n",
    "\n",
    "ifelse(pvalor>alfa,\"No rechazo Ho, puedo asumir igualdad de matrices de covarianzas\",\n",
    "       \"Rechazo Ho, no puedo asumir igualdad de matrices de covarianza\")\n",
    "# A nivel 0.01 no rechazo igualdad de varianzas entre las especies versi y virgi"
   ]
  },
  {
   "cell_type": "markdown",
   "id": "cfead5e6",
   "metadata": {},
   "source": [
    "### b -\n",
    "\n",
    "### Test igualdad de medias suponiendo igualdad en las covarianzas\n",
    "\n",
    "#### Recordando lo visto en clase, el test cociente de verosimilitud viene dado por"
   ]
  },
  {
   "cell_type": "markdown",
   "id": "8daa3d5f",
   "metadata": {},
   "source": [
    "<img src=\"test_igualdad_medias(igualcov_).png\" width=\"800\" height=\"400\">\n"
   ]
  },
  {
   "cell_type": "markdown",
   "id": "e2af95dc",
   "metadata": {},
   "source": [
    "#### Forma Exacta"
   ]
  },
  {
   "cell_type": "code",
   "execution_count": 26,
   "id": "93be4897",
   "metadata": {},
   "outputs": [
    {
     "data": {
      "text/html": [
       "'No rechazo Ho, todas las medias son iguales'"
      ],
      "text/latex": [
       "'No rechazo Ho, todas las medias son iguales'"
      ],
      "text/markdown": [
       "'No rechazo Ho, todas las medias son iguales'"
      ],
      "text/plain": [
       "[1] \"No rechazo Ho, todas las medias son iguales\""
      ]
     },
     "metadata": {},
     "output_type": "display_data"
    },
    {
     "data": {
      "text/html": [
       "1"
      ],
      "text/latex": [
       "1"
      ],
      "text/markdown": [
       "1"
      ],
      "text/plain": [
       "[1] 1"
      ]
     },
     "metadata": {},
     "output_type": "display_data"
    }
   ],
   "source": [
    "gammab <- (det(u)/(det(u+H)))^{n/2}\n",
    "\n",
    "gl <- p*k+p*(p+1)*(k/2)\n",
    "\n",
    "k_alfa = (-1/(n*p))*exp(qchisq(alfa, df=gl) )\n",
    "\n",
    "ifelse(gamma<k_alfa,\"Rechazo Ho, al menos una media es distinta\",\"No rechazo Ho, todas las medias son iguales\")\n",
    "\n",
    "p_valor_exacto = pchisq(-n*p*log(gamma), df=gl)\n",
    "p_valor_exacto"
   ]
  },
  {
   "cell_type": "markdown",
   "id": "ac4e7dca",
   "metadata": {},
   "source": [
    "#### Forma Aproximada"
   ]
  },
  {
   "cell_type": "code",
   "execution_count": 27,
   "id": "d817f703",
   "metadata": {},
   "outputs": [
    {
     "data": {
      "text/html": [
       "'No rechazo Ho, todas las medias son iguales'"
      ],
      "text/latex": [
       "'No rechazo Ho, todas las medias son iguales'"
      ],
      "text/markdown": [
       "'No rechazo Ho, todas las medias son iguales'"
      ],
      "text/plain": [
       "[1] \"No rechazo Ho, todas las medias son iguales\""
      ]
     },
     "metadata": {},
     "output_type": "display_data"
    },
    {
     "data": {
      "text/html": [
       "0.00715069999867105"
      ],
      "text/latex": [
       "0.00715069999867105"
      ],
      "text/markdown": [
       "0.00715069999867105"
      ],
      "text/plain": [
       "[1] 0.0071507"
      ]
     },
     "metadata": {},
     "output_type": "display_data"
    }
   ],
   "source": [
    "gl <- p*k+p*(p+1)/2-(p+p*(p+1)/2)\n",
    "\n",
    "gamma_logb = -2*log(gammab)\n",
    "\n",
    "pvalor <-  pchisq(gamma_log, gl, ncp=0, lower.tail = FALSE)\n",
    "\n",
    "ifelse(pvalor<alfa,\"Rechazo Ho, al menos una media es distinta\",\"No rechazo Ho, todas las medias son iguales\")\n",
    "\n",
    "pvalor\n"
   ]
  },
  {
   "cell_type": "markdown",
   "id": "19fc9b0b",
   "metadata": {},
   "source": [
    "### c-\n",
    "\n",
    "#### Coordenadas discriminantes"
   ]
  },
  {
   "cell_type": "markdown",
   "id": "f4f055e3",
   "metadata": {},
   "source": [
    "Recordar segun nomenclatura\n",
    "\n",
    "$ \\Large \\frac{U}{n}$ estima a $\\Sigma_w$\n",
    "$ \\Large \\frac{H}{n}$ estima a $\\Sigma_B$\n",
    "\n",
    "\n",
    "A su vez \n",
    "\n",
    "$\\alpha_j$ es el autovector asociado a $\\Sigma_w^{-1}~\\Sigma_B$"
   ]
  },
  {
   "cell_type": "code",
   "execution_count": 29,
   "id": "35aa168c",
   "metadata": {},
   "outputs": [],
   "source": [
    "a1 = eigen(solve(u/n)%*%(H/n))$vectors[,1]\n",
    "A = as.matrix(cbind(a1))\n",
    "\n",
    "zraya2 <- t(A)%*%xraya2\n",
    "zraya3 <- t(A)%*%xraya3\n",
    "\n",
    "\n"
   ]
  },
  {
   "cell_type": "code",
   "execution_count": 33,
   "id": "a4d0df67",
   "metadata": {},
   "outputs": [
    {
     "data": {
      "text/html": [
       "<table>\n",
       "<tbody>\n",
       "\t<tr><th scope=row>a1</th><td>-1.041913</td></tr>\n",
       "</tbody>\n",
       "</table>\n"
      ],
      "text/latex": [
       "\\begin{tabular}{r|l}\n",
       "\ta1 & -1.041913\\\\\n",
       "\\end{tabular}\n"
      ],
      "text/markdown": [
       "\n",
       "| a1 | -1.041913 |\n",
       "\n"
      ],
      "text/plain": [
       "   [,1]     \n",
       "a1 -1.041913"
      ]
     },
     "metadata": {},
     "output_type": "display_data"
    }
   ],
   "source": [
    "zraya3"
   ]
  },
  {
   "cell_type": "markdown",
   "id": "c85d0980",
   "metadata": {},
   "source": [
    "#### Proyecto sobre las coordenadas discriminantes"
   ]
  },
  {
   "cell_type": "code",
   "execution_count": 35,
   "id": "f36bb792",
   "metadata": {},
   "outputs": [],
   "source": [
    "x2proy <- as.vector(t(A)%*%t(df[df$Species==\"versicolor\",][,1:2]))\n",
    "x3proy <- as.vector(t(A)%*%t(df[df$Species==\"virginica\",][,1:2]))"
   ]
  },
  {
   "cell_type": "code",
   "execution_count": 45,
   "id": "5142f32d",
   "metadata": {},
   "outputs": [
    {
     "data": {
      "text/html": [
       "<table>\n",
       "<thead><tr><th scope=col>a1</th></tr></thead>\n",
       "<tbody>\n",
       "\t<tr><td> 0.2996034</td></tr>\n",
       "\t<tr><td>-0.9540638</td></tr>\n",
       "</tbody>\n",
       "</table>\n"
      ],
      "text/latex": [
       "\\begin{tabular}{l}\n",
       " a1\\\\\n",
       "\\hline\n",
       "\t  0.2996034\\\\\n",
       "\t -0.9540638\\\\\n",
       "\\end{tabular}\n"
      ],
      "text/markdown": [
       "\n",
       "| a1 |\n",
       "|---|\n",
       "|  0.2996034 |\n",
       "| -0.9540638 |\n",
       "\n"
      ],
      "text/plain": [
       "     a1        \n",
       "[1,]  0.2996034\n",
       "[2,] -0.9540638"
      ]
     },
     "metadata": {},
     "output_type": "display_data"
    }
   ],
   "source": [
    "A"
   ]
  },
  {
   "cell_type": "code",
   "execution_count": 42,
   "id": "83658909",
   "metadata": {},
   "outputs": [
    {
     "data": {
      "text/html": [
       "50"
      ],
      "text/latex": [
       "50"
      ],
      "text/markdown": [
       "50"
      ],
      "text/plain": [
       "[1] 50"
      ]
     },
     "metadata": {},
     "output_type": "display_data"
    }
   ],
   "source": [
    "length(x2proy)"
   ]
  },
  {
   "cell_type": "code",
   "execution_count": 44,
   "id": "caec2716",
   "metadata": {},
   "outputs": [
    {
     "data": {
      "text/html": [
       "50"
      ],
      "text/latex": [
       "50"
      ],
      "text/markdown": [
       "50"
      ],
      "text/plain": [
       "[1] 50"
      ]
     },
     "metadata": {},
     "output_type": "display_data"
    }
   ],
   "source": [
    "nrow(df[df$Species==\"versicolor\",][,1:2])"
   ]
  },
  {
   "cell_type": "code",
   "execution_count": 31,
   "id": "a2aefb89",
   "metadata": {},
   "outputs": [
    {
     "data": {
      "image/png": "[encoded data removed]",
      "text/plain": [
       "plot without title"
      ]
     },
     "metadata": {},
     "output_type": "display_data"
    }
   ],
   "source": [
    "plot(x2proy,c(rep(0,n2)), col=\"blue\",\n",
    "     ylim=c(-0.1,0.1), pch=20, ylab=\"\")\n",
    "points(x3proy,c(rep(0,n3)), col=\"green\",pch=20)\n",
    "points(zraya2, 0, pch=15, lwd=4, col=\"red\")\n",
    "points(zraya3, 0, pch=17, lwd=4, col=\"red\")"
   ]
  },
  {
   "cell_type": "code",
   "execution_count": null,
   "id": "c6795219",
   "metadata": {},
   "outputs": [],
   "source": []
  },
  {
   "cell_type": "code",
   "execution_count": null,
   "id": "a78c93e6",
   "metadata": {},
   "outputs": [],
   "source": []
  },
  {
   "cell_type": "code",
   "execution_count": null,
   "id": "eb20cb24",
   "metadata": {},
   "outputs": [],
   "source": []
  }
 ],
 "metadata": {
  "kernelspec": {
   "display_name": "R",
   "language": "R",
   "name": "ir"
  },
  "language_info": {
   "codemirror_mode": "r",
   "file_extension": ".r",
   "mimetype": "text/x-r-source",
   "name": "R",
   "pygments_lexer": "r",
   "version": "3.6.1"
  }
 },
 "nbformat": 4,
 "nbformat_minor": 5
}
