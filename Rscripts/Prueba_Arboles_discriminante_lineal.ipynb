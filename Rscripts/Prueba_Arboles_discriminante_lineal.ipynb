{
 "cells": [
  {
   "cell_type": "code",
   "execution_count": 18,
   "id": "70d33e19",
   "metadata": {},
   "outputs": [
    {
     "name": "stderr",
     "output_type": "stream",
     "text": [
      "\n",
      "Attaching package: 'dplyr'\n",
      "\n",
      "The following objects are masked from 'package:stats':\n",
      "\n",
      "    filter, lag\n",
      "\n",
      "The following objects are masked from 'package:base':\n",
      "\n",
      "    intersect, setdiff, setequal, union\n",
      "\n"
     ]
    }
   ],
   "source": [
    "library(\"dplyr\")\n"
   ]
  },
  {
   "cell_type": "code",
   "execution_count": 66,
   "id": "767a113a",
   "metadata": {},
   "outputs": [],
   "source": [
    "df = read.table(\"C:\\\\Users\\\\Dell7400\\\\Documents\\\\Ale\\\\Facu\\\\Multivariado\\\\datos\\\\arboles_modi.csv\",sep=\",\",header=TRUE)\n"
   ]
  },
  {
   "cell_type": "code",
   "execution_count": 67,
   "id": "9efab03d",
   "metadata": {},
   "outputs": [
    {
     "data": {
      "text/html": [
       "<ol class=list-inline>\n",
       "\t<li>'ï..injerto'</li>\n",
       "\t<li>'x1'</li>\n",
       "\t<li>'x2'</li>\n",
       "\t<li>'x3'</li>\n",
       "\t<li>'x4'</li>\n",
       "</ol>\n"
      ],
      "text/latex": [
       "\\begin{enumerate*}\n",
       "\\item 'ï..injerto'\n",
       "\\item 'x1'\n",
       "\\item 'x2'\n",
       "\\item 'x3'\n",
       "\\item 'x4'\n",
       "\\end{enumerate*}\n"
      ],
      "text/markdown": [
       "1. 'ï..injerto'\n",
       "2. 'x1'\n",
       "3. 'x2'\n",
       "4. 'x3'\n",
       "5. 'x4'\n",
       "\n",
       "\n"
      ],
      "text/plain": [
       "[1] \"ï..injerto\" \"x1\"         \"x2\"         \"x3\"         \"x4\"        "
      ]
     },
     "metadata": {},
     "output_type": "display_data"
    }
   ],
   "source": [
    "names(df)"
   ]
  },
  {
   "cell_type": "code",
   "execution_count": 75,
   "id": "f43024ea",
   "metadata": {},
   "outputs": [],
   "source": [
    "df_a = df[df$ï..injerto==\"a\",]\n",
    "df_b = df[df$ï..injerto==\"b\",]\n",
    "df_c = df[df$ï..injerto==\"c\",]\n",
    "\n",
    "df_a = select(df_a,x1,x2,x3,x4)\n",
    "df_b = select(df_b,x1,x2,x3,x4)\n",
    "df_c = select(df_c,x1,x2,x3,x4)"
   ]
  },
  {
   "cell_type": "code",
   "execution_count": 76,
   "id": "3892ded7",
   "metadata": {},
   "outputs": [
    {
     "data": {
      "text/html": [
       "<table>\n",
       "<thead><tr><th></th><th scope=col>x1</th><th scope=col>x2</th><th scope=col>x3</th><th scope=col>x4</th></tr></thead>\n",
       "<tbody>\n",
       "\t<tr><th scope=row>x1</th><td>0.003392857</td><td>0.02027179 </td><td>0.003739286</td><td>0.001778929</td></tr>\n",
       "\t<tr><th scope=row>x2</th><td>0.020271786</td><td>0.20069070 </td><td>0.058043036</td><td>0.045789554</td></tr>\n",
       "\t<tr><th scope=row>x3</th><td>0.003739286</td><td>0.05804304 </td><td>0.035183929</td><td>0.028483036</td></tr>\n",
       "\t<tr><th scope=row>x4</th><td>0.001778929</td><td>0.04578955 </td><td>0.028483036</td><td>0.028292696</td></tr>\n",
       "</tbody>\n",
       "</table>\n"
      ],
      "text/latex": [
       "\\begin{tabular}{r|llll}\n",
       "  & x1 & x2 & x3 & x4\\\\\n",
       "\\hline\n",
       "\tx1 & 0.003392857 & 0.02027179  & 0.003739286 & 0.001778929\\\\\n",
       "\tx2 & 0.020271786 & 0.20069070  & 0.058043036 & 0.045789554\\\\\n",
       "\tx3 & 0.003739286 & 0.05804304  & 0.035183929 & 0.028483036\\\\\n",
       "\tx4 & 0.001778929 & 0.04578955  & 0.028483036 & 0.028292696\\\\\n",
       "\\end{tabular}\n"
      ],
      "text/markdown": [
       "\n",
       "| <!--/--> | x1 | x2 | x3 | x4 |\n",
       "|---|---|---|---|---|\n",
       "| x1 | 0.003392857 | 0.02027179  | 0.003739286 | 0.001778929 |\n",
       "| x2 | 0.020271786 | 0.20069070  | 0.058043036 | 0.045789554 |\n",
       "| x3 | 0.003739286 | 0.05804304  | 0.035183929 | 0.028483036 |\n",
       "| x4 | 0.001778929 | 0.04578955  | 0.028483036 | 0.028292696 |\n",
       "\n"
      ],
      "text/plain": [
       "   x1          x2         x3          x4         \n",
       "x1 0.003392857 0.02027179 0.003739286 0.001778929\n",
       "x2 0.020271786 0.20069070 0.058043036 0.045789554\n",
       "x3 0.003739286 0.05804304 0.035183929 0.028483036\n",
       "x4 0.001778929 0.04578955 0.028483036 0.028292696"
      ]
     },
     "metadata": {},
     "output_type": "display_data"
    },
    {
     "data": {
      "text/html": [
       "<table>\n",
       "<thead><tr><th></th><th scope=col>x1</th><th scope=col>x2</th><th scope=col>x3</th><th scope=col>x4</th></tr></thead>\n",
       "<tbody>\n",
       "\t<tr><th scope=row>x1</th><td>0.003421429</td><td>0.02577321 </td><td>0.008842857</td><td>0.003232857</td></tr>\n",
       "\t<tr><th scope=row>x2</th><td>0.025773214</td><td>0.30478584 </td><td>0.149833571</td><td>0.083151786</td></tr>\n",
       "\t<tr><th scope=row>x3</th><td>0.008842857</td><td>0.14983357 </td><td>0.115742857</td><td>0.071105714</td></tr>\n",
       "\t<tr><th scope=row>x4</th><td>0.003232857</td><td>0.08315179 </td><td>0.071105714</td><td>0.056464286</td></tr>\n",
       "</tbody>\n",
       "</table>\n"
      ],
      "text/latex": [
       "\\begin{tabular}{r|llll}\n",
       "  & x1 & x2 & x3 & x4\\\\\n",
       "\\hline\n",
       "\tx1 & 0.003421429 & 0.02577321  & 0.008842857 & 0.003232857\\\\\n",
       "\tx2 & 0.025773214 & 0.30478584  & 0.149833571 & 0.083151786\\\\\n",
       "\tx3 & 0.008842857 & 0.14983357  & 0.115742857 & 0.071105714\\\\\n",
       "\tx4 & 0.003232857 & 0.08315179  & 0.071105714 & 0.056464286\\\\\n",
       "\\end{tabular}\n"
      ],
      "text/markdown": [
       "\n",
       "| <!--/--> | x1 | x2 | x3 | x4 |\n",
       "|---|---|---|---|---|\n",
       "| x1 | 0.003421429 | 0.02577321  | 0.008842857 | 0.003232857 |\n",
       "| x2 | 0.025773214 | 0.30478584  | 0.149833571 | 0.083151786 |\n",
       "| x3 | 0.008842857 | 0.14983357  | 0.115742857 | 0.071105714 |\n",
       "| x4 | 0.003232857 | 0.08315179  | 0.071105714 | 0.056464286 |\n",
       "\n"
      ],
      "text/plain": [
       "   x1          x2         x3          x4         \n",
       "x1 0.003421429 0.02577321 0.008842857 0.003232857\n",
       "x2 0.025773214 0.30478584 0.149833571 0.083151786\n",
       "x3 0.008842857 0.14983357 0.115742857 0.071105714\n",
       "x4 0.003232857 0.08315179 0.071105714 0.056464286"
      ]
     },
     "metadata": {},
     "output_type": "display_data"
    },
    {
     "data": {
      "text/html": [
       "<table>\n",
       "<thead><tr><th></th><th scope=col>x1</th><th scope=col>x2</th><th scope=col>x3</th><th scope=col>x4</th></tr></thead>\n",
       "<tbody>\n",
       "\t<tr><th scope=row>x1</th><td>0.00685000</td><td>0.03141786</td><td>0.00870000</td><td>0.00600250</td></tr>\n",
       "\t<tr><th scope=row>x2</th><td>0.03141786</td><td>0.15429564</td><td>0.04799286</td><td>0.03286118</td></tr>\n",
       "\t<tr><th scope=row>x3</th><td>0.00870000</td><td>0.04799286</td><td>0.09508571</td><td>0.06799500</td></tr>\n",
       "\t<tr><th scope=row>x4</th><td>0.00600250</td><td>0.03286118</td><td>0.06799500</td><td>0.05339255</td></tr>\n",
       "</tbody>\n",
       "</table>\n"
      ],
      "text/latex": [
       "\\begin{tabular}{r|llll}\n",
       "  & x1 & x2 & x3 & x4\\\\\n",
       "\\hline\n",
       "\tx1 & 0.00685000 & 0.03141786 & 0.00870000 & 0.00600250\\\\\n",
       "\tx2 & 0.03141786 & 0.15429564 & 0.04799286 & 0.03286118\\\\\n",
       "\tx3 & 0.00870000 & 0.04799286 & 0.09508571 & 0.06799500\\\\\n",
       "\tx4 & 0.00600250 & 0.03286118 & 0.06799500 & 0.05339255\\\\\n",
       "\\end{tabular}\n"
      ],
      "text/markdown": [
       "\n",
       "| <!--/--> | x1 | x2 | x3 | x4 |\n",
       "|---|---|---|---|---|\n",
       "| x1 | 0.00685000 | 0.03141786 | 0.00870000 | 0.00600250 |\n",
       "| x2 | 0.03141786 | 0.15429564 | 0.04799286 | 0.03286118 |\n",
       "| x3 | 0.00870000 | 0.04799286 | 0.09508571 | 0.06799500 |\n",
       "| x4 | 0.00600250 | 0.03286118 | 0.06799500 | 0.05339255 |\n",
       "\n"
      ],
      "text/plain": [
       "   x1         x2         x3         x4        \n",
       "x1 0.00685000 0.03141786 0.00870000 0.00600250\n",
       "x2 0.03141786 0.15429564 0.04799286 0.03286118\n",
       "x3 0.00870000 0.04799286 0.09508571 0.06799500\n",
       "x4 0.00600250 0.03286118 0.06799500 0.05339255"
      ]
     },
     "metadata": {},
     "output_type": "display_data"
    }
   ],
   "source": [
    "s_a = var(df_a)\n",
    "s_b = var(df_b)\n",
    "s_c = var(df_c)\n",
    "s_a\n",
    "s_b\n",
    "s_c"
   ]
  },
  {
   "cell_type": "code",
   "execution_count": null,
   "id": "94998038",
   "metadata": {},
   "outputs": [],
   "source": []
  },
  {
   "cell_type": "code",
   "execution_count": null,
   "id": "2e4a292b",
   "metadata": {},
   "outputs": [],
   "source": []
  },
  {
   "cell_type": "code",
   "execution_count": null,
   "id": "9b93dff9",
   "metadata": {},
   "outputs": [],
   "source": []
  },
  {
   "cell_type": "code",
   "execution_count": null,
   "id": "80a67ae9",
   "metadata": {},
   "outputs": [],
   "source": []
  },
  {
   "cell_type": "code",
   "execution_count": null,
   "id": "68b8863c",
   "metadata": {},
   "outputs": [],
   "source": []
  },
  {
   "cell_type": "code",
   "execution_count": null,
   "id": "27531c98",
   "metadata": {},
   "outputs": [],
   "source": []
  }
 ],
 "metadata": {
  "kernelspec": {
   "display_name": "R",
   "language": "R",
   "name": "ir"
  },
  "language_info": {
   "codemirror_mode": "r",
   "file_extension": ".r",
   "mimetype": "text/x-r-source",
   "name": "R",
   "pygments_lexer": "r",
   "version": "3.6.1"
  }
 },
 "nbformat": 4,
 "nbformat_minor": 5
}
